{
 "cells": [
  {
   "cell_type": "code",
   "execution_count": 1,
   "id": "935d9370-0f72-4170-b974-18d63ec481c8",
   "metadata": {},
   "outputs": [],
   "source": [
    "import os\n",
    "import subprocess\n",
    "import datetime as dt\n",
    "import itertools\n",
    "import xarray as xr\n",
    "import numpy as np\n",
    "import matplotlib.pyplot as plt\n",
    "from MHW_daily_calcs import *"
   ]
  },
  {
   "cell_type": "code",
   "execution_count": 2,
   "id": "0c9e14dd-5886-489b-8e3c-2e5a1bf9db36",
   "metadata": {},
   "outputs": [],
   "source": [
    "climyrs=[1993,2023]\n",
    "smoothmethod='tri'\n",
    "windowhalfwid=10"
   ]
  },
  {
   "cell_type": "code",
   "execution_count": null,
   "id": "c84a6544-c45f-4eab-9565-e05c33c9de67",
   "metadata": {},
   "outputs": [],
   "source": [
    "fclim=xr.open_dataset(fnameOISSTDailyClim(climyrs[0],climyrs[-1]),decode_times=False)\n",
    "climS=da.empty_like(fclim.variables['sst'].values)"
   ]
  },
  {
   "cell_type": "code",
   "execution_count": null,
   "id": "beb79a9c-7859-4372-a545-ac31bb78d74f",
   "metadata": {},
   "outputs": [],
   "source": [
    "fclim['sst']"
   ]
  },
  {
   "cell_type": "code",
   "execution_count": null,
   "id": "0b550042-2866-46fc-9385-9c5603e54ec6",
   "metadata": {},
   "outputs": [],
   "source": [
    "smoothClim=trismooth(np.arange(0,365),fclim['sst'].values,L=windowhalfwid,periodic=True)"
   ]
  },
  {
   "cell_type": "code",
   "execution_count": null,
   "id": "a3a61040-96eb-4c62-8f7a-3d30cc1a01b8",
   "metadata": {},
   "outputs": [],
   "source": [
    "np.shape(smoothClim)"
   ]
  },
  {
   "cell_type": "code",
   "execution_count": null,
   "id": "7070a688-110f-4073-b367-956efcf9fbea",
   "metadata": {},
   "outputs": [],
   "source": [
    "plt.plot(fclim['sst'][:,140,180],'r-')\n",
    "plt.plot(smoothClim[:,140,180],'k-')"
   ]
  },
  {
   "cell_type": "code",
   "execution_count": null,
   "id": "3adfa2a6-5c0d-4202-be52-91598e50c0db",
   "metadata": {},
   "outputs": [],
   "source": [
    "fout=fnameOISSTDailyClimSmooth(climyrs[0],climyrs[-1],smoothmethod,windowhalfwid)\n",
    "ds=xr.Dataset(data_vars={'sst':(['yearday','lat','lon'],smoothClim)},\n",
    "                             coords={'yearday':np.arange(1,366),\n",
    "                                     'lat':fclim.lat,\n",
    "                                     'lon':fclim.lon})\n",
    "ds.to_netcdf(fout,mode='w')"
   ]
  },
  {
   "cell_type": "code",
   "execution_count": null,
   "id": "ad65a4ed-ecb7-49e8-886c-7275ae09a6f2",
   "metadata": {},
   "outputs": [],
   "source": [
    "fout\n"
   ]
  },
  {
   "cell_type": "code",
   "execution_count": 3,
   "id": "e507a8e5-df6b-4d99-8a0c-2ee634888645",
   "metadata": {},
   "outputs": [],
   "source": [
    "smoothedClim=True\n",
    "if smoothedClim:\n",
    "    climpath=fnameOISSTDailyClimSmooth(climyrs[0],climyrs[-1],smoothmethod,windowhalfwid)\n",
    "else:\n",
    "    climpath=climpath=fnameOISSTDailyClim(climyrs[0],climyrs[-1])\n",
    "fclim=xr.open_dataset(climpath)"
   ]
  },
  {
   "cell_type": "code",
   "execution_count": null,
   "id": "0fa00610-070f-4d64-b1d5-d0555b8c4e65",
   "metadata": {},
   "outputs": [
    {
     "name": "stdout",
     "output_type": "stream",
     "text": [
      "[1991, 2000]\n",
      "0\n",
      "30\n",
      "60\n",
      "90\n",
      "120\n",
      "150\n",
      "180\n",
      "210\n",
      "240\n",
      "270\n",
      "300\n",
      "330\n",
      "360\n",
      "390\n",
      "420\n",
      "450\n",
      "480\n",
      "510\n",
      "540\n",
      "570\n",
      "600\n",
      "630\n",
      "660\n",
      "690\n",
      "720\n",
      "750\n",
      "780\n",
      "810\n",
      "840\n",
      "870\n",
      "900\n",
      "930\n",
      "960\n",
      "990\n",
      "1020\n",
      "1050\n",
      "1080\n",
      "1110\n",
      "1140\n",
      "1170\n",
      "1200\n",
      "1230\n",
      "1260\n",
      "1290\n",
      "1320\n",
      "1350\n",
      "1380\n",
      "1410\n",
      "1440\n",
      "1470\n",
      "1500\n",
      "1530\n",
      "1560\n",
      "1590\n",
      "1620\n",
      "1650\n",
      "1680\n",
      "1710\n",
      "1740\n",
      "1770\n",
      "1800\n",
      "1830\n",
      "1860\n",
      "1890\n",
      "1920\n",
      "1950\n",
      "1980\n",
      "2010\n",
      "2040\n",
      "2070\n",
      "2100\n",
      "2130\n",
      "2160\n",
      "2190\n",
      "2220\n",
      "2250\n",
      "2280\n",
      "2310\n",
      "2340\n",
      "2370\n",
      "2400\n",
      "2430\n",
      "2460\n",
      "2490\n",
      "2520\n",
      "2550\n",
      "2580\n",
      "2610\n",
      "2640\n"
     ]
    }
   ],
   "source": [
    "for yrlims in ylimlistobs:\n",
    "    print(yrlims)\n",
    "    ifile=fnameOISSTDailyGrid2(yrlims)\n",
    "    fsst=xr.open_dataset(ifile,decode_times=False,chunks={'time':365,})\n",
    "    tdt=[dt.datetime(1978,1,1)+dt.timedelta(days=float(ii)) for ii in fsst.time.values]\n",
    "    yd=[(el-dt.datetime(el.year-1,12,31)).days for el in tdt]\n",
    "    # Loop over time\n",
    "    sst_an=np.empty(np.shape(fsst.sst.values))\n",
    "    for ind, iyd in enumerate(yd):\n",
    "        if ind%100==0: print(ind)\n",
    "        iyd = min(iyd,365)\n",
    "        sst_an[ind,...] = fsst.sst.values[ind,...] - fclim.sst.values[iyd-1,...]\n",
    "    for jj in range(0,180,60):\n",
    "        fout=fnameOISSTAnom(yrlims, jj, smoothClim=True, meth=smoothmethod, win=windowhalfwid)\n",
    "        dsout=xr.Dataset(data_vars={'sst_an':(['time','lat','lon'],sst_an[:,jj:jj+60,:])},\n",
    "                         coords={'time':fsst.time,\n",
    "                                 'lat':fsst.lat.isel(lat=slice(jj,jj+60)),\n",
    "                                 'lon':fsst.lon})\n",
    "        dsout.to_netcdf(fout,mode='w')\n",
    "        print(fout)"
   ]
  },
  {
   "cell_type": "code",
   "execution_count": null,
   "id": "a3262649-e046-43cf-9da8-68f586fa7d34",
   "metadata": {},
   "outputs": [],
   "source": [
    "def _detrend(data):\n",
    "    # remove trend along first dimension assuming evenly spaced data along that dimension\n",
    "    # reshape to 2-d array to get fit, then transform fit back to original shape\n",
    "    # return data with trend subtracted\n",
    "    data=np.asarray(data)\n",
    "    dshape = data.shape\n",
    "    N=dshape[0]\n",
    "    X=np.concatenate([np.ones((N,1)), np.expand_dims(np.arange(0,N),1)],1)\n",
    "    M=np.prod(dshape,axis=0) // N # // is floor division\n",
    "    newdata = np.reshape(data,(N, M)) \n",
    "    newdata = newdata.copy() # make sure a copy has been created\n",
    "    # check there aren't extraneous nan's (besides fully masked land cells)\n",
    "    if set(np.unique(np.sum(np.sum(np.isnan(fin.sst_an.data),axis=1),axis=0)))==set([0,np.prod(fin.sst_an.data.shape[:2])]):\n",
    "        b, res, p, svs = np.linalg.lstsq(X,newdata,rcond=None)\n",
    "    else: # extra nan's present; trigger annoying slow loop\n",
    "        print('entering NaN loop')\n",
    "        b=-9*np.ones((2,M))\n",
    "        for ix in range(0,M):\n",
    "            yy=newdata[:,ix]\n",
    "            ind=~np.isnan(yy)\n",
    "            xx=X[ind,:]\n",
    "            yy=yy[ind].reshape((np.sum(ind),1))\n",
    "            bb, res, p, svs = np.linalg.lstsq(xx,yy,rcond=None)\n",
    "            b[:,ix]=bb[:,0]\n",
    "        assert np.sum(b==-9)==0\n",
    "    bshp = tuple([2]+list(dshape)[1:])\n",
    "    b=np.reshape(b,bshp)\n",
    "    trnd=np.arange(0,N).reshape((N,)+tuple(np.ones(len(dshape)-1,dtype=int))) * b[1,...].reshape((1,)+np.shape(b[1,...]))+\\\n",
    "                b[0,...].reshape((1,)+np.shape(b[0,:,:]))\n",
    "    return data-trnd"
   ]
  },
  {
   "cell_type": "code",
   "execution_count": null,
   "id": "526324df-d0e6-40a3-8938-37cbf768d590",
   "metadata": {},
   "outputs": [],
   "source": [
    "for jj in range(0,180,60):\n",
    "    flist=[fnameOISSTAnom(yrlims, jj, smoothClim=True, meth=smoothmethod, win=windowhalfwid) for yrlims in ylimlistobs]\n",
    "    fanom=xr.open_mfdataset(flist,decode_times=False,parallel=True)\n",
    "    sst_an=_detrend(fanom.sst_an.values)\n",
    "    fout=fnameOISSTAnomDetr([ylimlistobs[0][0], ylimobs[-1][-1]], jj, smoothClim=False, meth=None, win=1)\n",
    "    sst_an.to_netcdf(fout,mode='w')"
   ]
  },
  {
   "cell_type": "code",
   "execution_count": null,
   "id": "1469a8f3-4160-46d0-b58a-a052fc6769d8",
   "metadata": {},
   "outputs": [],
   "source": []
  },
  {
   "cell_type": "code",
   "execution_count": null,
   "id": "574e794d-16ca-4cde-9202-7d78addbbe75",
   "metadata": {},
   "outputs": [],
   "source": []
  },
  {
   "cell_type": "code",
   "execution_count": null,
   "id": "6106636c-1dca-46de-8eea-1e1977d41ef3",
   "metadata": {},
   "outputs": [],
   "source": []
  },
  {
   "cell_type": "code",
   "execution_count": null,
   "id": "bc17c77a-eb8c-4aa3-8615-c2459590d5d2",
   "metadata": {},
   "outputs": [],
   "source": []
  },
  {
   "cell_type": "code",
   "execution_count": null,
   "id": "7a5d775f-76ae-4323-a99c-3bdf7ed15d6e",
   "metadata": {},
   "outputs": [],
   "source": []
  },
  {
   "cell_type": "code",
   "execution_count": null,
   "id": "cfba79ec-c474-4dc4-8073-1cc6206c3c27",
   "metadata": {},
   "outputs": [],
   "source": []
  },
  {
   "cell_type": "code",
   "execution_count": null,
   "id": "c3dc920a-9822-4b9e-b2fb-b8843e2ba59a",
   "metadata": {},
   "outputs": [],
   "source": []
  },
  {
   "cell_type": "code",
   "execution_count": null,
   "id": "839593cd-3c77-4faf-9046-342b9624096e",
   "metadata": {},
   "outputs": [],
   "source": []
  }
 ],
 "metadata": {
  "kernelspec": {
   "display_name": "Python (py12MHW)",
   "language": "python",
   "name": "py12mhw"
  },
  "language_info": {
   "codemirror_mode": {
    "name": "ipython",
    "version": 3
   },
   "file_extension": ".py",
   "mimetype": "text/x-python",
   "name": "python",
   "nbconvert_exporter": "python",
   "pygments_lexer": "ipython3",
   "version": "3.12.5"
  }
 },
 "nbformat": 4,
 "nbformat_minor": 5
}
