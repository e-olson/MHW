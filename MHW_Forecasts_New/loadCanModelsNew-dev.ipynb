{
 "cells": [
  {
   "cell_type": "code",
   "execution_count": 1,
   "id": "ec71f286-3041-4a1c-9c9b-d08e155c5e85",
   "metadata": {},
   "outputs": [],
   "source": [
    "import numpy as np\n",
    "import xarray as xr\n",
    "import netCDF4 as nc\n",
    "import matplotlib.pyplot as plt\n",
    "import os\n",
    "import glob\n",
    "import dask.array as da\n",
    "import datetime as dt"
   ]
  },
  {
   "cell_type": "code",
   "execution_count": 2,
   "id": "6771ca3b-ae29-424a-8e57-5a0f61cf1929",
   "metadata": {},
   "outputs": [],
   "source": [
    "# ind=(mm==(im-1)%12)|(mm==im)|(mm==(im+1)%12) # 3 month groups running mean"
   ]
  },
  {
   "cell_type": "code",
   "execution_count": 3,
   "id": "18df236b-5548-42c4-acb6-4e55ef6a75e2",
   "metadata": {},
   "outputs": [],
   "source": [
    "ptile=90\n",
    "years = [1991, 2020]\n",
    "il=0\n",
    "def sstfile(lead,years):\n",
    "    return f'/space/hall5/sitestore/eccc/crd/ccrn/users/reo000/work/MHW/newHindcastMonthly/sst_HC_l{il}_{years[0]}_{years[1]}.nc'\n",
    "def anomfile(mod,lead,years,detr):\n",
    "    detrstr='_detr' if detr=='detr' else ''\n",
    "    return f\"/space/hall5/sitestore/eccc/crd/ccrn/users/reo000/work/MHW/newHindcastMonthly/sstAnom{detrstr}_HC{mod}_l{lead}_{years[0]}_{years[1]}.nc\""
   ]
  },
  {
   "cell_type": "code",
   "execution_count": 4,
   "id": "50c157bb-717b-453f-9670-2d370d3e5d68",
   "metadata": {},
   "outputs": [],
   "source": [
    "f=xr.open_dataset(sstfile(il,years))"
   ]
  },
  {
   "cell_type": "code",
   "execution_count": 5,
   "id": "73508f6f-5ad8-4703-899e-ccadbee9476b",
   "metadata": {},
   "outputs": [],
   "source": [
    "# ensemble members 1-20 = GEM5.2-NEMO\n",
    "# ensemble members 21-40 = CanESM5\n",
    "ens=dict(GN=f.sst.isel(M=slice(0,20)),\n",
    "         C5=f.sst.isel(M=slice(20,40)))\n",
    "modkeys=list(ens.keys())"
   ]
  },
  {
   "cell_type": "code",
   "execution_count": 6,
   "id": "fdc73284-46d6-4429-8b59-a068f0badae5",
   "metadata": {},
   "outputs": [
    {
     "data": {
      "text/plain": [
       "(360, 20, 180, 360)"
      ]
     },
     "execution_count": 6,
     "metadata": {},
     "output_type": "execute_result"
    }
   ],
   "source": [
    "nt,nm,ny,nx=np.shape(ens['GN']) # both models have same number of ensemble members\n",
    "nt,nm,ny,nx"
   ]
  },
  {
   "cell_type": "code",
   "execution_count": 7,
   "id": "0352155a-3b8a-40c6-b373-d10859663e59",
   "metadata": {},
   "outputs": [],
   "source": [
    "Emean={imod: ens[imod].mean(dim='M',keepdims=True) for imod in modkeys} # ensemble mean for each model"
   ]
  },
  {
   "cell_type": "code",
   "execution_count": 8,
   "id": "852657fb-dc3a-4263-969d-eb2bfe3ea14f",
   "metadata": {},
   "outputs": [],
   "source": [
    "clim={imod:da.zeros((12,1,ny,nx)) for imod in modkeys} # initialize climatology arrays"
   ]
  },
  {
   "cell_type": "code",
   "execution_count": 9,
   "id": "944fbf34-155c-4cab-9ea1-82c2edb238b5",
   "metadata": {},
   "outputs": [
    {
     "name": "stdout",
     "output_type": "stream",
     "text": [
      "2024-08-14 22:36:31.164134\n",
      "2024-08-14 22:36:31.170314\n",
      "2024-08-14 22:36:31.175628\n",
      "2024-08-14 22:36:31.180609\n",
      "2024-08-14 22:36:31.185582\n",
      "2024-08-14 22:36:31.190313\n",
      "2024-08-14 22:36:31.195051\n",
      "2024-08-14 22:36:31.199731\n",
      "2024-08-14 22:36:31.204579\n",
      "2024-08-14 22:36:31.209206\n",
      "2024-08-14 22:36:31.214027\n",
      "2024-08-14 22:36:31.218680\n",
      "2024-08-14 22:36:31.223279\n",
      "2024-08-14 22:36:31.228349\n",
      "2024-08-14 22:36:31.233346\n",
      "2024-08-14 22:36:31.238305\n",
      "2024-08-14 22:36:31.243099\n",
      "2024-08-14 22:36:31.248059\n",
      "2024-08-14 22:36:31.252838\n",
      "2024-08-14 22:36:31.257632\n",
      "2024-08-14 22:36:31.262458\n",
      "2024-08-14 22:36:31.267383\n",
      "2024-08-14 22:36:31.272140\n",
      "2024-08-14 22:36:31.276955\n",
      "2024-08-14 22:36:31.281492\n"
     ]
    }
   ],
   "source": [
    "print(dt.datetime.now())\n",
    "# define climatologies and load in memory\n",
    "for imod in modkeys:\n",
    "    for im in range(0,12):\n",
    "        clim[imod][im,...]=Emean[imod].isel(S=slice(im,-1,12)).mean(dim='S').compute()\n",
    "        print(dt.datetime.now())"
   ]
  },
  {
   "cell_type": "code",
   "execution_count": 10,
   "id": "65988d14-3272-4bd2-ad32-f2fc87f59988",
   "metadata": {},
   "outputs": [
    {
     "data": {
      "text/html": [
       "<table>\n",
       "    <tr>\n",
       "        <td>\n",
       "            <table style=\"border-collapse: collapse;\">\n",
       "                <thead>\n",
       "                    <tr>\n",
       "                        <td> </td>\n",
       "                        <th> Array </th>\n",
       "                        <th> Chunk </th>\n",
       "                    </tr>\n",
       "                </thead>\n",
       "                <tbody>\n",
       "                    \n",
       "                    <tr>\n",
       "                        <th> Bytes </th>\n",
       "                        <td> 5.93 MiB </td>\n",
       "                        <td> 5.93 MiB </td>\n",
       "                    </tr>\n",
       "                    \n",
       "                    <tr>\n",
       "                        <th> Shape </th>\n",
       "                        <td> (12, 1, 180, 360) </td>\n",
       "                        <td> (12, 1, 180, 360) </td>\n",
       "                    </tr>\n",
       "                    <tr>\n",
       "                        <th> Dask graph </th>\n",
       "                        <td colspan=\"2\"> 1 chunks in 13 graph layers </td>\n",
       "                    </tr>\n",
       "                    <tr>\n",
       "                        <th> Data type </th>\n",
       "                        <td colspan=\"2\"> float64 numpy.ndarray </td>\n",
       "                    </tr>\n",
       "                </tbody>\n",
       "            </table>\n",
       "        </td>\n",
       "        <td>\n",
       "        <svg width=\"388\" height=\"124\" style=\"stroke:rgb(0,0,0);stroke-width:1\" >\n",
       "\n",
       "  <!-- Horizontal lines -->\n",
       "  <line x1=\"0\" y1=\"0\" x2=\"32\" y2=\"0\" style=\"stroke-width:2\" />\n",
       "  <line x1=\"0\" y1=\"25\" x2=\"32\" y2=\"25\" style=\"stroke-width:2\" />\n",
       "\n",
       "  <!-- Vertical lines -->\n",
       "  <line x1=\"0\" y1=\"0\" x2=\"0\" y2=\"25\" style=\"stroke-width:2\" />\n",
       "  <line x1=\"32\" y1=\"0\" x2=\"32\" y2=\"25\" style=\"stroke-width:2\" />\n",
       "\n",
       "  <!-- Colored Rectangle -->\n",
       "  <polygon points=\"0.0,0.0 32.02435249410096,0.0 32.02435249410096,25.412616514582485 0.0,25.412616514582485\" style=\"fill:#ECB172A0;stroke-width:0\"/>\n",
       "\n",
       "  <!-- Text -->\n",
       "  <text x=\"16.012176\" y=\"45.412617\" font-size=\"1.0rem\" font-weight=\"100\" text-anchor=\"middle\" >12</text>\n",
       "  <text x=\"52.024352\" y=\"12.706308\" font-size=\"1.0rem\" font-weight=\"100\" text-anchor=\"middle\" transform=\"rotate(0,52.024352,12.706308)\">1</text>\n",
       "\n",
       "\n",
       "  <!-- Horizontal lines -->\n",
       "  <line x1=\"102\" y1=\"0\" x2=\"116\" y2=\"14\" style=\"stroke-width:2\" />\n",
       "  <line x1=\"102\" y1=\"60\" x2=\"116\" y2=\"74\" style=\"stroke-width:2\" />\n",
       "\n",
       "  <!-- Vertical lines -->\n",
       "  <line x1=\"102\" y1=\"0\" x2=\"102\" y2=\"60\" style=\"stroke-width:2\" />\n",
       "  <line x1=\"116\" y1=\"14\" x2=\"116\" y2=\"74\" style=\"stroke-width:2\" />\n",
       "\n",
       "  <!-- Colored Rectangle -->\n",
       "  <polygon points=\"102.0,0.0 116.9485979497544,14.948597949754403 116.9485979497544,74.9485979497544 102.0,60.0\" style=\"fill:#ECB172A0;stroke-width:0\"/>\n",
       "\n",
       "  <!-- Horizontal lines -->\n",
       "  <line x1=\"102\" y1=\"0\" x2=\"222\" y2=\"0\" style=\"stroke-width:2\" />\n",
       "  <line x1=\"116\" y1=\"14\" x2=\"236\" y2=\"14\" style=\"stroke-width:2\" />\n",
       "\n",
       "  <!-- Vertical lines -->\n",
       "  <line x1=\"102\" y1=\"0\" x2=\"116\" y2=\"14\" style=\"stroke-width:2\" />\n",
       "  <line x1=\"222\" y1=\"0\" x2=\"236\" y2=\"14\" style=\"stroke-width:2\" />\n",
       "\n",
       "  <!-- Colored Rectangle -->\n",
       "  <polygon points=\"102.0,0.0 222.0,0.0 236.9485979497544,14.948597949754403 116.9485979497544,14.948597949754403\" style=\"fill:#ECB172A0;stroke-width:0\"/>\n",
       "\n",
       "  <!-- Horizontal lines -->\n",
       "  <line x1=\"116\" y1=\"14\" x2=\"236\" y2=\"14\" style=\"stroke-width:2\" />\n",
       "  <line x1=\"116\" y1=\"74\" x2=\"236\" y2=\"74\" style=\"stroke-width:2\" />\n",
       "\n",
       "  <!-- Vertical lines -->\n",
       "  <line x1=\"116\" y1=\"14\" x2=\"116\" y2=\"74\" style=\"stroke-width:2\" />\n",
       "  <line x1=\"236\" y1=\"14\" x2=\"236\" y2=\"74\" style=\"stroke-width:2\" />\n",
       "\n",
       "  <!-- Colored Rectangle -->\n",
       "  <polygon points=\"116.9485979497544,14.948597949754403 236.9485979497544,14.948597949754403 236.9485979497544,74.9485979497544 116.9485979497544,74.9485979497544\" style=\"fill:#ECB172A0;stroke-width:0\"/>\n",
       "\n",
       "  <!-- Text -->\n",
       "  <text x=\"176.948598\" y=\"94.948598\" font-size=\"1.0rem\" font-weight=\"100\" text-anchor=\"middle\" >360</text>\n",
       "  <text x=\"256.948598\" y=\"44.948598\" font-size=\"1.0rem\" font-weight=\"100\" text-anchor=\"middle\" transform=\"rotate(-90,256.948598,44.948598)\">180</text>\n",
       "  <text x=\"99.474299\" y=\"87.474299\" font-size=\"1.0rem\" font-weight=\"100\" text-anchor=\"middle\" transform=\"rotate(45,99.474299,87.474299)\">1</text>\n",
       "</svg>\n",
       "        </td>\n",
       "    </tr>\n",
       "</table>"
      ],
      "text/plain": [
       "dask.array<setitem, shape=(12, 1, 180, 360), dtype=float64, chunksize=(12, 1, 180, 360), chunktype=numpy.ndarray>"
      ]
     },
     "execution_count": 10,
     "metadata": {},
     "output_type": "execute_result"
    }
   ],
   "source": [
    "clim[modkeys[0]]"
   ]
  },
  {
   "cell_type": "code",
   "execution_count": 11,
   "id": "a19a0e39-4f9a-49e3-b5d0-bccfe6a00b02",
   "metadata": {},
   "outputs": [
    {
     "data": {
      "text/plain": [
       "[<matplotlib.lines.Line2D at 0x14ea105ec9d0>]"
      ]
     },
     "execution_count": 11,
     "metadata": {},
     "output_type": "execute_result"
    },
    {
     "data": {
      "image/png": "[encoded data removed]",
      "text/plain": [
       "<Figure size 640x480 with 1 Axes>"
      ]
     },
     "metadata": {},
     "output_type": "display_data"
    }
   ],
   "source": [
    "plt.plot(clim[modkeys[0]][:,0,120,100])"
   ]
  },
  {
   "cell_type": "code",
   "execution_count": 12,
   "id": "7235f5f8-2cb8-479d-9569-e56324a0f7ed",
   "metadata": {},
   "outputs": [
    {
     "name": "stdout",
     "output_type": "stream",
     "text": [
      "2024-08-14 22:36:31.618281\n",
      "2024-08-14 22:36:36.967735\n"
     ]
    }
   ],
   "source": [
    "print(dt.datetime.now())\n",
    "anom={(imod,'base'):ens[imod].data-da.tile(clim[imod],(int(nt/12),nm,1,1)) for imod in modkeys} # anomolies as dask array\n",
    "print(dt.datetime.now())"
   ]
  },
  {
   "cell_type": "code",
   "execution_count": 13,
   "id": "74a8a0f1-73c7-4d2c-ae7f-123bc1a059af",
   "metadata": {},
   "outputs": [
    {
     "data": {
      "text/html": [
       "<table>\n",
       "    <tr>\n",
       "        <td>\n",
       "            <table style=\"border-collapse: collapse;\">\n",
       "                <thead>\n",
       "                    <tr>\n",
       "                        <td> </td>\n",
       "                        <th> Array </th>\n",
       "                        <th> Chunk </th>\n",
       "                    </tr>\n",
       "                </thead>\n",
       "                <tbody>\n",
       "                    \n",
       "                    <tr>\n",
       "                        <th> Bytes </th>\n",
       "                        <td> 3.48 GiB </td>\n",
       "                        <td> 5.93 MiB </td>\n",
       "                    </tr>\n",
       "                    \n",
       "                    <tr>\n",
       "                        <th> Shape </th>\n",
       "                        <td> (360, 20, 180, 360) </td>\n",
       "                        <td> (12, 1, 180, 360) </td>\n",
       "                    </tr>\n",
       "                    <tr>\n",
       "                        <th> Dask graph </th>\n",
       "                        <td colspan=\"2\"> 600 chunks in 18 graph layers </td>\n",
       "                    </tr>\n",
       "                    <tr>\n",
       "                        <th> Data type </th>\n",
       "                        <td colspan=\"2\"> float64 numpy.ndarray </td>\n",
       "                    </tr>\n",
       "                </tbody>\n",
       "            </table>\n",
       "        </td>\n",
       "        <td>\n",
       "        <svg width=\"570\" height=\"130\" style=\"stroke:rgb(0,0,0);stroke-width:1\" >\n",
       "\n",
       "  <!-- Horizontal lines -->\n",
       "  <line x1=\"0\" y1=\"0\" x2=\"120\" y2=\"0\" style=\"stroke-width:2\" />\n",
       "  <line x1=\"0\" y1=\"25\" x2=\"120\" y2=\"25\" style=\"stroke-width:2\" />\n",
       "\n",
       "  <!-- Vertical lines -->\n",
       "  <line x1=\"0\" y1=\"0\" x2=\"0\" y2=\"25\" style=\"stroke-width:2\" />\n",
       "  <line x1=\"4\" y1=\"0\" x2=\"4\" y2=\"25\" />\n",
       "  <line x1=\"8\" y1=\"0\" x2=\"8\" y2=\"25\" />\n",
       "  <line x1=\"12\" y1=\"0\" x2=\"12\" y2=\"25\" />\n",
       "  <line x1=\"16\" y1=\"0\" x2=\"16\" y2=\"25\" />\n",
       "  <line x1=\"20\" y1=\"0\" x2=\"20\" y2=\"25\" />\n",
       "  <line x1=\"24\" y1=\"0\" x2=\"24\" y2=\"25\" />\n",
       "  <line x1=\"28\" y1=\"0\" x2=\"28\" y2=\"25\" />\n",
       "  <line x1=\"32\" y1=\"0\" x2=\"32\" y2=\"25\" />\n",
       "  <line x1=\"36\" y1=\"0\" x2=\"36\" y2=\"25\" />\n",
       "  <line x1=\"40\" y1=\"0\" x2=\"40\" y2=\"25\" />\n",
       "  <line x1=\"44\" y1=\"0\" x2=\"44\" y2=\"25\" />\n",
       "  <line x1=\"48\" y1=\"0\" x2=\"48\" y2=\"25\" />\n",
       "  <line x1=\"52\" y1=\"0\" x2=\"52\" y2=\"25\" />\n",
       "  <line x1=\"56\" y1=\"0\" x2=\"56\" y2=\"25\" />\n",
       "  <line x1=\"60\" y1=\"0\" x2=\"60\" y2=\"25\" />\n",
       "  <line x1=\"64\" y1=\"0\" x2=\"64\" y2=\"25\" />\n",
       "  <line x1=\"68\" y1=\"0\" x2=\"68\" y2=\"25\" />\n",
       "  <line x1=\"72\" y1=\"0\" x2=\"72\" y2=\"25\" />\n",
       "  <line x1=\"76\" y1=\"0\" x2=\"76\" y2=\"25\" />\n",
       "  <line x1=\"80\" y1=\"0\" x2=\"80\" y2=\"25\" />\n",
       "  <line x1=\"84\" y1=\"0\" x2=\"84\" y2=\"25\" />\n",
       "  <line x1=\"88\" y1=\"0\" x2=\"88\" y2=\"25\" />\n",
       "  <line x1=\"92\" y1=\"0\" x2=\"92\" y2=\"25\" />\n",
       "  <line x1=\"96\" y1=\"0\" x2=\"96\" y2=\"25\" />\n",
       "  <line x1=\"100\" y1=\"0\" x2=\"100\" y2=\"25\" />\n",
       "  <line x1=\"104\" y1=\"0\" x2=\"104\" y2=\"25\" />\n",
       "  <line x1=\"108\" y1=\"0\" x2=\"108\" y2=\"25\" />\n",
       "  <line x1=\"112\" y1=\"0\" x2=\"112\" y2=\"25\" />\n",
       "  <line x1=\"116\" y1=\"0\" x2=\"116\" y2=\"25\" />\n",
       "  <line x1=\"120\" y1=\"0\" x2=\"120\" y2=\"25\" style=\"stroke-width:2\" />\n",
       "\n",
       "  <!-- Colored Rectangle -->\n",
       "  <polygon points=\"0.0,0.0 120.0,0.0 120.0,25.412616514582485 0.0,25.412616514582485\" style=\"fill:#ECB172A0;stroke-width:0\"/>\n",
       "\n",
       "  <!-- Text -->\n",
       "  <text x=\"60.000000\" y=\"45.412617\" font-size=\"1.0rem\" font-weight=\"100\" text-anchor=\"middle\" >360</text>\n",
       "  <text x=\"140.000000\" y=\"12.706308\" font-size=\"1.0rem\" font-weight=\"100\" text-anchor=\"middle\" transform=\"rotate(0,140.000000,12.706308)\">1</text>\n",
       "\n",
       "\n",
       "  <!-- Horizontal lines -->\n",
       "  <line x1=\"190\" y1=\"0\" x2=\"210\" y2=\"20\" style=\"stroke-width:2\" />\n",
       "  <line x1=\"190\" y1=\"60\" x2=\"210\" y2=\"80\" style=\"stroke-width:2\" />\n",
       "\n",
       "  <!-- Vertical lines -->\n",
       "  <line x1=\"190\" y1=\"0\" x2=\"190\" y2=\"60\" style=\"stroke-width:2\" />\n",
       "  <line x1=\"191\" y1=\"1\" x2=\"191\" y2=\"61\" />\n",
       "  <line x1=\"192\" y1=\"2\" x2=\"192\" y2=\"62\" />\n",
       "  <line x1=\"193\" y1=\"3\" x2=\"193\" y2=\"63\" />\n",
       "  <line x1=\"194\" y1=\"4\" x2=\"194\" y2=\"64\" />\n",
       "  <line x1=\"195\" y1=\"5\" x2=\"195\" y2=\"65\" />\n",
       "  <line x1=\"196\" y1=\"6\" x2=\"196\" y2=\"66\" />\n",
       "  <line x1=\"197\" y1=\"7\" x2=\"197\" y2=\"67\" />\n",
       "  <line x1=\"198\" y1=\"8\" x2=\"198\" y2=\"68\" />\n",
       "  <line x1=\"199\" y1=\"9\" x2=\"199\" y2=\"69\" />\n",
       "  <line x1=\"200\" y1=\"10\" x2=\"200\" y2=\"70\" />\n",
       "  <line x1=\"201\" y1=\"11\" x2=\"201\" y2=\"71\" />\n",
       "  <line x1=\"202\" y1=\"12\" x2=\"202\" y2=\"72\" />\n",
       "  <line x1=\"203\" y1=\"13\" x2=\"203\" y2=\"73\" />\n",
       "  <line x1=\"204\" y1=\"14\" x2=\"204\" y2=\"74\" />\n",
       "  <line x1=\"205\" y1=\"15\" x2=\"205\" y2=\"75\" />\n",
       "  <line x1=\"206\" y1=\"16\" x2=\"206\" y2=\"76\" />\n",
       "  <line x1=\"207\" y1=\"17\" x2=\"207\" y2=\"77\" />\n",
       "  <line x1=\"208\" y1=\"18\" x2=\"208\" y2=\"78\" />\n",
       "  <line x1=\"209\" y1=\"19\" x2=\"209\" y2=\"79\" />\n",
       "  <line x1=\"210\" y1=\"20\" x2=\"210\" y2=\"80\" style=\"stroke-width:2\" />\n",
       "\n",
       "  <!-- Colored Rectangle -->\n",
       "  <polygon points=\"190.0,0.0 210.67342854737376,20.673428547373774 210.67342854737376,80.67342854737377 190.0,60.0\" style=\"fill:#ECB172A0;stroke-width:0\"/>\n",
       "\n",
       "  <!-- Horizontal lines -->\n",
       "  <line x1=\"190\" y1=\"0\" x2=\"310\" y2=\"0\" style=\"stroke-width:2\" />\n",
       "  <line x1=\"191\" y1=\"1\" x2=\"311\" y2=\"1\" />\n",
       "  <line x1=\"192\" y1=\"2\" x2=\"312\" y2=\"2\" />\n",
       "  <line x1=\"193\" y1=\"3\" x2=\"313\" y2=\"3\" />\n",
       "  <line x1=\"194\" y1=\"4\" x2=\"314\" y2=\"4\" />\n",
       "  <line x1=\"195\" y1=\"5\" x2=\"315\" y2=\"5\" />\n",
       "  <line x1=\"196\" y1=\"6\" x2=\"316\" y2=\"6\" />\n",
       "  <line x1=\"197\" y1=\"7\" x2=\"317\" y2=\"7\" />\n",
       "  <line x1=\"198\" y1=\"8\" x2=\"318\" y2=\"8\" />\n",
       "  <line x1=\"199\" y1=\"9\" x2=\"319\" y2=\"9\" />\n",
       "  <line x1=\"200\" y1=\"10\" x2=\"320\" y2=\"10\" />\n",
       "  <line x1=\"201\" y1=\"11\" x2=\"321\" y2=\"11\" />\n",
       "  <line x1=\"202\" y1=\"12\" x2=\"322\" y2=\"12\" />\n",
       "  <line x1=\"203\" y1=\"13\" x2=\"323\" y2=\"13\" />\n",
       "  <line x1=\"204\" y1=\"14\" x2=\"324\" y2=\"14\" />\n",
       "  <line x1=\"205\" y1=\"15\" x2=\"325\" y2=\"15\" />\n",
       "  <line x1=\"206\" y1=\"16\" x2=\"326\" y2=\"16\" />\n",
       "  <line x1=\"207\" y1=\"17\" x2=\"327\" y2=\"17\" />\n",
       "  <line x1=\"208\" y1=\"18\" x2=\"328\" y2=\"18\" />\n",
       "  <line x1=\"209\" y1=\"19\" x2=\"329\" y2=\"19\" />\n",
       "  <line x1=\"210\" y1=\"20\" x2=\"330\" y2=\"20\" style=\"stroke-width:2\" />\n",
       "\n",
       "  <!-- Vertical lines -->\n",
       "  <line x1=\"190\" y1=\"0\" x2=\"210\" y2=\"20\" style=\"stroke-width:2\" />\n",
       "  <line x1=\"310\" y1=\"0\" x2=\"330\" y2=\"20\" style=\"stroke-width:2\" />\n",
       "\n",
       "  <!-- Colored Rectangle -->\n",
       "  <polygon points=\"190.0,0.0 310.0,0.0 330.67342854737376,20.673428547373774 210.67342854737376,20.673428547373774\" style=\"fill:#ECB172A0;stroke-width:0\"/>\n",
       "\n",
       "  <!-- Horizontal lines -->\n",
       "  <line x1=\"210\" y1=\"20\" x2=\"330\" y2=\"20\" style=\"stroke-width:2\" />\n",
       "  <line x1=\"210\" y1=\"80\" x2=\"330\" y2=\"80\" style=\"stroke-width:2\" />\n",
       "\n",
       "  <!-- Vertical lines -->\n",
       "  <line x1=\"210\" y1=\"20\" x2=\"210\" y2=\"80\" style=\"stroke-width:2\" />\n",
       "  <line x1=\"330\" y1=\"20\" x2=\"330\" y2=\"80\" style=\"stroke-width:2\" />\n",
       "\n",
       "  <!-- Colored Rectangle -->\n",
       "  <polygon points=\"210.67342854737376,20.673428547373774 330.67342854737376,20.673428547373774 330.67342854737376,80.67342854737377 210.67342854737376,80.67342854737377\" style=\"fill:#ECB172A0;stroke-width:0\"/>\n",
       "\n",
       "  <!-- Text -->\n",
       "  <text x=\"270.673429\" y=\"100.673429\" font-size=\"1.0rem\" font-weight=\"100\" text-anchor=\"middle\" >360</text>\n",
       "  <text x=\"350.673429\" y=\"50.673429\" font-size=\"1.0rem\" font-weight=\"100\" text-anchor=\"middle\" transform=\"rotate(-90,350.673429,50.673429)\">180</text>\n",
       "  <text x=\"190.336714\" y=\"90.336714\" font-size=\"1.0rem\" font-weight=\"100\" text-anchor=\"middle\" transform=\"rotate(45,190.336714,90.336714)\">20</text>\n",
       "</svg>\n",
       "        </td>\n",
       "    </tr>\n",
       "</table>"
      ],
      "text/plain": [
       "dask.array<subtract, shape=(360, 20, 180, 360), dtype=float64, chunksize=(12, 1, 180, 360), chunktype=numpy.ndarray>"
      ]
     },
     "execution_count": 13,
     "metadata": {},
     "output_type": "execute_result"
    }
   ],
   "source": [
    "anom[(modkeys[0],'base')]"
   ]
  },
  {
   "cell_type": "code",
   "execution_count": 14,
   "id": "833585fb-f37e-4a8b-8924-901cb54f6c1e",
   "metadata": {},
   "outputs": [
    {
     "data": {
      "text/plain": [
       "(360, 20, 180, 360)"
      ]
     },
     "execution_count": 14,
     "metadata": {},
     "output_type": "execute_result"
    }
   ],
   "source": [
    "anom[(modkeys[0],'base')].shape"
   ]
  },
  {
   "cell_type": "code",
   "execution_count": 15,
   "id": "59550a14-cdcc-462e-8140-1a0ba2812935",
   "metadata": {},
   "outputs": [
    {
     "data": {
      "text/html": [
       "<table>\n",
       "    <tr>\n",
       "        <td>\n",
       "            <table style=\"border-collapse: collapse;\">\n",
       "                <thead>\n",
       "                    <tr>\n",
       "                        <td> </td>\n",
       "                        <th> Array </th>\n",
       "                        <th> Chunk </th>\n",
       "                    </tr>\n",
       "                </thead>\n",
       "                <tbody>\n",
       "                    \n",
       "                    <tr>\n",
       "                        <th> Bytes </th>\n",
       "                        <td> 2.81 kiB </td>\n",
       "                        <td> 96 B </td>\n",
       "                    </tr>\n",
       "                    \n",
       "                    <tr>\n",
       "                        <th> Shape </th>\n",
       "                        <td> (360,) </td>\n",
       "                        <td> (12,) </td>\n",
       "                    </tr>\n",
       "                    <tr>\n",
       "                        <th> Dask graph </th>\n",
       "                        <td colspan=\"2\"> 30 chunks in 19 graph layers </td>\n",
       "                    </tr>\n",
       "                    <tr>\n",
       "                        <th> Data type </th>\n",
       "                        <td colspan=\"2\"> float64 numpy.ndarray </td>\n",
       "                    </tr>\n",
       "                </tbody>\n",
       "            </table>\n",
       "        </td>\n",
       "        <td>\n",
       "        <svg width=\"170\" height=\"75\" style=\"stroke:rgb(0,0,0);stroke-width:1\" >\n",
       "\n",
       "  <!-- Horizontal lines -->\n",
       "  <line x1=\"0\" y1=\"0\" x2=\"120\" y2=\"0\" style=\"stroke-width:2\" />\n",
       "  <line x1=\"0\" y1=\"25\" x2=\"120\" y2=\"25\" style=\"stroke-width:2\" />\n",
       "\n",
       "  <!-- Vertical lines -->\n",
       "  <line x1=\"0\" y1=\"0\" x2=\"0\" y2=\"25\" style=\"stroke-width:2\" />\n",
       "  <line x1=\"4\" y1=\"0\" x2=\"4\" y2=\"25\" />\n",
       "  <line x1=\"12\" y1=\"0\" x2=\"12\" y2=\"25\" />\n",
       "  <line x1=\"16\" y1=\"0\" x2=\"16\" y2=\"25\" />\n",
       "  <line x1=\"24\" y1=\"0\" x2=\"24\" y2=\"25\" />\n",
       "  <line x1=\"28\" y1=\"0\" x2=\"28\" y2=\"25\" />\n",
       "  <line x1=\"36\" y1=\"0\" x2=\"36\" y2=\"25\" />\n",
       "  <line x1=\"44\" y1=\"0\" x2=\"44\" y2=\"25\" />\n",
       "  <line x1=\"48\" y1=\"0\" x2=\"48\" y2=\"25\" />\n",
       "  <line x1=\"56\" y1=\"0\" x2=\"56\" y2=\"25\" />\n",
       "  <line x1=\"60\" y1=\"0\" x2=\"60\" y2=\"25\" />\n",
       "  <line x1=\"68\" y1=\"0\" x2=\"68\" y2=\"25\" />\n",
       "  <line x1=\"72\" y1=\"0\" x2=\"72\" y2=\"25\" />\n",
       "  <line x1=\"80\" y1=\"0\" x2=\"80\" y2=\"25\" />\n",
       "  <line x1=\"88\" y1=\"0\" x2=\"88\" y2=\"25\" />\n",
       "  <line x1=\"92\" y1=\"0\" x2=\"92\" y2=\"25\" />\n",
       "  <line x1=\"100\" y1=\"0\" x2=\"100\" y2=\"25\" />\n",
       "  <line x1=\"104\" y1=\"0\" x2=\"104\" y2=\"25\" />\n",
       "  <line x1=\"112\" y1=\"0\" x2=\"112\" y2=\"25\" />\n",
       "  <line x1=\"120\" y1=\"0\" x2=\"120\" y2=\"25\" style=\"stroke-width:2\" />\n",
       "\n",
       "  <!-- Colored Rectangle -->\n",
       "  <polygon points=\"0.0,0.0 120.0,0.0 120.0,25.412616514582485 0.0,25.412616514582485\" style=\"fill:#8B4903A0;stroke-width:0\"/>\n",
       "\n",
       "  <!-- Text -->\n",
       "  <text x=\"60.000000\" y=\"45.412617\" font-size=\"1.0rem\" font-weight=\"100\" text-anchor=\"middle\" >360</text>\n",
       "  <text x=\"140.000000\" y=\"12.706308\" font-size=\"1.0rem\" font-weight=\"100\" text-anchor=\"middle\" transform=\"rotate(0,140.000000,12.706308)\">1</text>\n",
       "</svg>\n",
       "        </td>\n",
       "    </tr>\n",
       "</table>"
      ],
      "text/plain": [
       "dask.array<getitem, shape=(360,), dtype=float64, chunksize=(12,), chunktype=numpy.ndarray>"
      ]
     },
     "execution_count": 15,
     "metadata": {},
     "output_type": "execute_result"
    }
   ],
   "source": [
    "GNanom=anom[(modkeys[0],'base')] # for testing\n",
    "vec=GNanom[:,5,100,100]\n",
    "vec"
   ]
  },
  {
   "cell_type": "code",
   "execution_count": 16,
   "id": "d1d0b783-5cdc-4c27-98b1-1a1f9cf9bdf6",
   "metadata": {},
   "outputs": [
    {
     "name": "stderr",
     "output_type": "stream",
     "text": [
      "/home/ords/crd/ccrn/reo000/miniconda3/envs/py39dc2/lib/python3.9/site-packages/dask/array/core.py:1705: FutureWarning: The `numpy.polyfit` function is not implemented by Dask array. You may want to use the da.map_blocks function or something similar to silence this warning. Your code may stop working in a future release.\n",
      "  warnings.warn(\n"
     ]
    },
    {
     "data": {
      "text/plain": [
       "[<matplotlib.lines.Line2D at 0x14ea0de11730>]"
      ]
     },
     "execution_count": 16,
     "metadata": {},
     "output_type": "execute_result"
    },
    {
     "data": {
      "image/png": "[encoded data removed]",
      "text/plain": [
       "<Figure size 640x480 with 1 Axes>"
      ]
     },
     "metadata": {},
     "output_type": "display_data"
    }
   ],
   "source": [
    "N=len(vec)\n",
    "X=np.concatenate([np.ones((N,1)), np.expand_dims(np.arange(0,N),1)],1)\n",
    "p=np.polyfit(np.arange(0,N),vec,1)\n",
    "vec2=vec-p[0]*np.arange(0,N)\n",
    "plt.plot(vec,'b.')\n",
    "plt.plot(vec2,'r.')"
   ]
  },
  {
   "cell_type": "code",
   "execution_count": 17,
   "id": "4b69ce51-6d92-43c8-8dec-7d2f0dfe40aa",
   "metadata": {},
   "outputs": [
    {
     "data": {
      "text/plain": [
       "2"
      ]
     },
     "execution_count": 17,
     "metadata": {},
     "output_type": "execute_result"
    }
   ],
   "source": [
    "def test(vec):\n",
    "    return np.arange(0,len(vec))# for testing da.apply_along_axis behavior\n",
    "testout=da.apply_along_axis(test,0,GNanom,shape=(GNanom.shape[0],))\n",
    "testout[2,5,100,100].compute() # should be 2"
   ]
  },
  {
   "cell_type": "code",
   "execution_count": 18,
   "id": "24e73225-a7f3-4dd6-bf1d-ff8a747496ef",
   "metadata": {},
   "outputs": [
    {
     "data": {
      "text/plain": [
       "0.0"
      ]
     },
     "execution_count": 18,
     "metadata": {},
     "output_type": "execute_result"
    }
   ],
   "source": [
    "def test(vec):\n",
    "    return np.mean(vec)*np.ones((len(vec),))\n",
    "testout=da.apply_along_axis(test,0,GNanom,shape=(GNanom.shape[0],))\n",
    "np.max(np.abs(testout[3,5,100,100]-GNanom.mean(axis=0)[5,100,100])).compute() # should be 0"
   ]
  },
  {
   "cell_type": "code",
   "execution_count": 19,
   "id": "db5bef54-f635-46ca-99c2-1f4efb05fd28",
   "metadata": {},
   "outputs": [],
   "source": [
    "def _detrend_1d(vec):\n",
    "    ii=~np.isnan(vec)\n",
    "    x=np.arange(0,len(vec))\n",
    "    if np.sum(ii)>0:\n",
    "        p=np.polyfit(x[ii].flatten(),vec[ii].flatten(),1)\n",
    "        return vec-p[0]*x\n",
    "    else:\n",
    "        return vec # in this case should be all NaNs"
   ]
  },
  {
   "cell_type": "code",
   "execution_count": 20,
   "id": "36cedd31-ac32-4cb4-96d4-49135c632d1d",
   "metadata": {},
   "outputs": [
    {
     "name": "stdout",
     "output_type": "stream",
     "text": [
      "2024-08-14 22:36:38.582354\n",
      "2024-08-14 22:36:38.643213\n",
      "2024-08-14 22:36:38.646515\n"
     ]
    }
   ],
   "source": [
    "print(dt.datetime.now())\n",
    "for imod in modkeys: # add detrended anomalies to anom dict\n",
    "    anom[(imod,'detr')]=da.apply_along_axis(_detrend_1d,0,anom[(imod,'base')],shape=(anom[(imod,'base')].shape[0],),dtype=np.float64)\n",
    "    print(dt.datetime.now())"
   ]
  },
  {
   "cell_type": "code",
   "execution_count": 21,
   "id": "0dc4d5fa-6f1f-4a14-804a-99ecd856e186",
   "metadata": {},
   "outputs": [
    {
     "name": "stdout",
     "output_type": "stream",
     "text": [
      "2024-08-14 22:36:38.651776\n",
      "2024-08-14 22:36:43.479180\n",
      "2024-08-14 22:36:45.552745\n",
      "2024-08-14 22:39:21.456191\n",
      "2024-08-14 22:41:56.394440\n"
     ]
    }
   ],
   "source": [
    "print(dt.datetime.now())\n",
    "akeys=list(anom.keys()) # list of all combinations of models with 'base' and 'detr'\n",
    "# write anomaly files (to trigger computation and save intermediate step)\n",
    "for ikey in akeys:\n",
    "    mod=ikey[0]\n",
    "    detr=ikey[1]\n",
    "    f_out=anomfile(mod,il,years,detr)\n",
    "    dsout=xr.Dataset(data_vars={'start_time':f.start_time,\n",
    "                        'anom':(['S','M','Y','X'],anom[ikey])},\n",
    "            coords=dict(lon=f.lon,lat=f.lat,M=ens[mod].M,S=f.S),)\n",
    "    dsout.to_netcdf(f_out,mode='w')\n",
    "    print(dt.datetime.now())"
   ]
  },
  {
   "cell_type": "code",
   "execution_count": 22,
   "id": "bd397a29-d859-4da6-a26c-5de7d1daad13",
   "metadata": {},
   "outputs": [],
   "source": [
    "f.close()"
   ]
  },
  {
   "cell_type": "code",
   "execution_count": 23,
   "id": "674c0b9d-bfec-4aea-bf6c-8718986eec18",
   "metadata": {},
   "outputs": [
    {
     "name": "stdout",
     "output_type": "stream",
     "text": [
      "2024-08-14 22:41:56.406906\n"
     ]
    }
   ],
   "source": [
    "print(dt.datetime.now())"
   ]
  },
  {
   "cell_type": "code",
   "execution_count": 24,
   "id": "4dd8d6bf-a73d-46a0-884d-22864b531b50",
   "metadata": {},
   "outputs": [
    {
     "data": {
      "text/plain": [
       "'/space/hall5/sitestore/eccc/crd/ccrn/users/reo000/work/MHW/newHindcastMonthly/sstAnom_detr_HCC5_l0_1991_2020.nc'"
      ]
     },
     "execution_count": 24,
     "metadata": {},
     "output_type": "execute_result"
    }
   ],
   "source": [
    "f_out"
   ]
  },
  {
   "cell_type": "code",
   "execution_count": 25,
   "id": "b015d479-f267-458b-807d-47a5a9712599",
   "metadata": {},
   "outputs": [
    {
     "data": {
      "text/plain": [
       "[('GN', 'base'), ('C5', 'base'), ('GN', 'detr'), ('C5', 'detr')]"
      ]
     },
     "execution_count": 25,
     "metadata": {},
     "output_type": "execute_result"
    }
   ],
   "source": [
    "akeys"
   ]
  },
  {
   "cell_type": "code",
   "execution_count": null,
   "id": "5649f23f-07d4-4609-a67d-5c824ef52379",
   "metadata": {},
   "outputs": [],
   "source": []
  }
 ],
 "metadata": {
  "kernelspec": {
   "display_name": "Python (py39dc2)",
   "language": "python",
   "name": "py39dc2"
  },
  "language_info": {
   "codemirror_mode": {
    "name": "ipython",
    "version": 3
   },
   "file_extension": ".py",
   "mimetype": "text/x-python",
   "name": "python",
   "nbconvert_exporter": "python",
   "pygments_lexer": "ipython3",
   "version": "3.9.19"
  }
 },
 "nbformat": 4,
 "nbformat_minor": 5
}
