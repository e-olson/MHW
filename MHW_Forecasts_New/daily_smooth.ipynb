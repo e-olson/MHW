{
 "cells": [
  {
   "cell_type": "code",
   "execution_count": 1,
   "id": "b2b4ad8b-af5b-4193-9cac-80561b7e8e30",
   "metadata": {},
   "outputs": [],
   "source": [
    "import os\n",
    "import sys\n",
    "import subprocess\n",
    "import datetime as dt\n",
    "import itertools\n",
    "import numpy as np\n",
    "import xarray as xr\n",
    "from dask.distributed import Client, LocalCluster\n",
    "import dask.array as da\n",
    "import matplotlib.pyplot as plt\n",
    "import cmocean\n",
    "from MHW_daily_calcs import *"
   ]
  },
  {
   "cell_type": "code",
   "execution_count": null,
   "id": "c3bb4d57-b306-43d2-8c5b-ba25863b642d",
   "metadata": {},
   "outputs": [],
   "source": []
  },
  {
   "cell_type": "code",
   "execution_count": 2,
   "id": "4c5cfa44-1959-4a6f-9d7b-9c7380063fdc",
   "metadata": {},
   "outputs": [],
   "source": [
    "fin=xr.open_dataset(fnameCanESMdaily(mdirC5,1993,1,1,0),decode_times=False)"
   ]
  },
  {
   "cell_type": "code",
   "execution_count": 6,
   "id": "b1a3872f-0074-45d8-aafe-6b37052f0a51",
   "metadata": {},
   "outputs": [],
   "source": [
    "def _add_dims(arr,tarr): # add trailing dimensions of length 1 until dimension length of tarr is reached\n",
    "    while len(np.shape(arr))<len(np.shape(tarr)):\n",
    "        arr=np.expand_dims(arr,-1)\n",
    "    return arr"
   ]
  },
  {
   "cell_type": "code",
   "execution_count": 7,
   "id": "197ff276-8fb2-4223-978a-f5394e03440b",
   "metadata": {},
   "outputs": [],
   "source": [
    "def gsmooth(v,x,L,axis=0):\n",
    "    if not axis==0:\n",
    "        v=np.moveaxis(v,axis,0)\n",
    "    if len(np.shape(v))==1:\n",
    "        v=np.expand_dims(v,axis=1)\n",
    "    fil=np.empty(np.shape(v))\n",
    "    s=L/2.355\n",
    "    for ind, t in enumerate(x):\n",
    "        diff=np.abs(x-t)\n",
    "        wgt=_add_dims(np.array([np.exp(-.5*x**2/s**2) if x<=3*L else 0.0 for x in diff]),v)\n",
    "        fil[ind,...]=np.divide(np.nansum(wgt*v,0),np.nansum(wgt*~np.isnan(v),0),\n",
    "                               out=np.nan*da.array(np.ones(np.shape(v)[1:])),\n",
    "                               where=np.nansum(wgt*~np.isnan(v),0)>0)\n",
    "    if not axis==0:\n",
    "        fil=np.moveaxis(fil,0,axis)\n",
    "    return fil"
   ]
  },
  {
   "cell_type": "code",
   "execution_count": 8,
   "id": "128754b0-68c3-46f9-bec4-14057369e9ce",
   "metadata": {},
   "outputs": [
    {
     "name": "stdout",
     "output_type": "stream",
     "text": [
      "CPU times: user 3 µs, sys: 1 µs, total: 4 µs\n",
      "Wall time: 7.87 µs\n"
     ]
    }
   ],
   "source": [
    "%time\n",
    "test=gsmooth(fin.tso.values,fin.leadtime.values,10*24,1)"
   ]
  },
  {
   "cell_type": "code",
   "execution_count": null,
   "id": "ea1fa7b1-61db-4e59-9815-1d29c921d7a1",
   "metadata": {},
   "outputs": [],
   "source": [
    "np.shape(test),np.shape(fin.tso.values)"
   ]
  },
  {
   "cell_type": "code",
   "execution_count": null,
   "id": "5566a1ac-4027-46b3-ad2c-a0737a89610b",
   "metadata": {},
   "outputs": [],
   "source": []
  },
  {
   "cell_type": "code",
   "execution_count": null,
   "id": "62ffd3eb-62ac-4dfa-aa36-89af733345e2",
   "metadata": {},
   "outputs": [],
   "source": []
  },
  {
   "cell_type": "code",
   "execution_count": null,
   "id": "89ac24d5-95af-42c6-9ca2-d37c45449d78",
   "metadata": {},
   "outputs": [],
   "source": []
  },
  {
   "cell_type": "code",
   "execution_count": null,
   "id": "031336fd-a215-431c-a6db-f89db8d9289f",
   "metadata": {},
   "outputs": [],
   "source": []
  },
  {
   "cell_type": "code",
   "execution_count": null,
   "id": "abf013a0-07d7-47ac-849d-33ea2d3d8296",
   "metadata": {},
   "outputs": [],
   "source": []
  },
  {
   "cell_type": "code",
   "execution_count": null,
   "id": "94822633-94f0-4497-9ce0-25d009183d8d",
   "metadata": {},
   "outputs": [],
   "source": []
  }
 ],
 "metadata": {
  "kernelspec": {
   "display_name": "Python (py39dc2)",
   "language": "python",
   "name": "py39dc2"
  },
  "language_info": {
   "codemirror_mode": {
    "name": "ipython",
    "version": 3
   },
   "file_extension": ".py",
   "mimetype": "text/x-python",
   "name": "python",
   "nbconvert_exporter": "python",
   "pygments_lexer": "ipython3",
   "version": "3.9.19"
  }
 },
 "nbformat": 4,
 "nbformat_minor": 5
}
