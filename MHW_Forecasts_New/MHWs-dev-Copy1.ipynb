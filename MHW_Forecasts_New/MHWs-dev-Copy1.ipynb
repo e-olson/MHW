{
 "cells": [
  {
   "cell_type": "code",
   "execution_count": 1,
   "id": "173f99f5-e162-465f-a24d-2216a1d137ab",
   "metadata": {},
   "outputs": [],
   "source": [
    "import numpy as np\n",
    "import xarray as xr\n",
    "import netCDF4 as nc\n",
    "import matplotlib.pyplot as plt\n",
    "import os\n",
    "import glob\n",
    "import dask.array as da\n",
    "import datetime as dt"
   ]
  },
  {
   "cell_type": "code",
   "execution_count": 2,
   "id": "431c1ded-835e-4c02-bbcb-f1e098f85a3d",
   "metadata": {},
   "outputs": [],
   "source": [
    "qtile=0.9\n",
    "years = [1991, 2020]\n",
    "il=0\n",
    "def sstfile(lead,years):\n",
    "    return f'/space/hall5/sitestore/eccc/crd/ccrn/users/reo000/work/MHW/newHindcastMonthly/sst_HC_l{il}_{years[0]}_{years[1]}.nc'\n",
    "def anomfile(mod,lead,years,detr):\n",
    "    detrstr='_detr' if detr=='detr' else ''\n",
    "    return f\"/space/hall5/sitestore/eccc/crd/ccrn/users/reo000/work/MHW/newHindcastMonthly/sstAnom{detrstr}_HC{mod}_l{lead}_{years[0]}_{years[1]}.nc\"\n",
    "def mhwfile(lead,years,detr):\n",
    "    detrstr='_detr' if detr=='detr' else ''\n",
    "    return f\"/space/hall5/sitestore/eccc/crd/ccrn/users/reo000/work/MHW/newHindcastMonthly/mhw{detrstr}_HC_l{lead}_{years[0]}_{years[1]}.nc\"\n",
    "akeys=[('GN', 'base'), ('C5', 'base'), ('GN', 'detr'), ('C5', 'detr')]\n",
    "modkeys=['GN','C5']"
   ]
  },
  {
   "cell_type": "code",
   "execution_count": 3,
   "id": "c380eefc-816c-40b7-a2d1-cd4483a35edd",
   "metadata": {},
   "outputs": [],
   "source": [
    "ff={};anom={}\n",
    "for imod in modkeys:\n",
    "    for idet in ('base','detr'):\n",
    "        ff[(imod,idet)]=xr.open_dataset(anomfile(imod,il,years,idet),chunks={'S':-1,'M':-1,'lat':60,'lon':90})\n",
    "        anom[(imod,idet)]=ff[(imod,idet)].anom.data.rechunk({2:60,3:90})"
   ]
  },
  {
   "cell_type": "code",
   "execution_count": 4,
   "id": "912a20b2-8070-41bc-b194-4a1dd1f2047d",
   "metadata": {},
   "outputs": [
    {
     "data": {
      "text/plain": [
       "(360, 20, 180, 360)"
      ]
     },
     "execution_count": 4,
     "metadata": {},
     "output_type": "execute_result"
    }
   ],
   "source": [
    "nt,nm,ny,nx=np.shape(anom[akeys[0]]) # both models have same number of ensemble members\n",
    "nt,nm,ny,nx"
   ]
  },
  {
   "cell_type": "code",
   "execution_count": 5,
   "id": "3da02980-f556-448a-bc23-28b37dc30c0d",
   "metadata": {},
   "outputs": [
    {
     "name": "stdout",
     "output_type": "stream",
     "text": [
      "2024-08-14 22:48:40.464917\n",
      "2024-08-14 22:48:50.881475\n",
      "2024-08-14 22:49:01.028803\n",
      "2024-08-14 22:49:11.493435\n",
      "2024-08-14 22:49:21.762189\n",
      "2024-08-14 22:49:31.407545\n",
      "2024-08-14 22:49:41.883853\n",
      "2024-08-14 22:49:52.003772\n",
      "2024-08-14 22:50:01.419426\n",
      "2024-08-14 22:50:12.002212\n",
      "2024-08-14 22:50:22.637946\n",
      "2024-08-14 22:50:32.511557\n",
      "2024-08-14 22:50:42.334066\n",
      "2024-08-14 22:50:51.883513\n",
      "2024-08-14 22:51:01.319218\n",
      "2024-08-14 22:51:10.892012\n",
      "2024-08-14 22:51:20.853189\n",
      "2024-08-14 22:51:30.678378\n",
      "2024-08-14 22:51:40.149744\n",
      "2024-08-14 22:51:50.589901\n",
      "2024-08-14 22:52:00.282053\n",
      "2024-08-14 22:52:09.791635\n",
      "2024-08-14 22:52:19.217074\n",
      "2024-08-14 22:52:28.856637\n",
      "2024-08-14 22:52:38.370076\n",
      "2024-08-14 22:52:48.126472\n",
      "2024-08-14 22:52:57.790483\n",
      "2024-08-14 22:53:07.341108\n",
      "2024-08-14 22:53:17.026627\n",
      "2024-08-14 22:53:26.689668\n",
      "2024-08-14 22:53:35.667819\n",
      "2024-08-14 22:53:44.831912\n",
      "2024-08-14 22:53:53.862927\n",
      "2024-08-14 22:54:03.151516\n",
      "2024-08-14 22:54:12.083827\n",
      "2024-08-14 22:54:21.120387\n",
      "2024-08-14 22:54:30.141155\n",
      "2024-08-14 22:54:39.337896\n",
      "2024-08-14 22:54:48.312962\n",
      "2024-08-14 22:54:57.540102\n",
      "2024-08-14 22:55:07.180440\n",
      "2024-08-14 22:55:16.425830\n",
      "2024-08-14 22:55:25.533977\n",
      "2024-08-14 22:55:34.774895\n",
      "2024-08-14 22:55:44.246455\n",
      "2024-08-14 22:55:53.281177\n",
      "2024-08-14 22:56:02.350266\n",
      "2024-08-14 22:56:11.407582\n",
      "2024-08-14 22:56:20.659896\n"
     ]
    }
   ],
   "source": [
    "print(dt.datetime.now())\n",
    "qtiles=[qtile,]\n",
    "mm=np.arange(0,nt)%12\n",
    "sst_an_thr={ikey:da.zeros((12,1,ny,nx)) for ikey in akeys} #initialize threshold arrays\n",
    "for ikey in akeys:\n",
    "    for im in range(0,12):\n",
    "        ind=(mm==(im-1)%12)|(mm==im)|(mm==(im+1)%12) # 3 month groups running mean\n",
    "        temp=anom[ikey][ind,...].reshape((int(nt/12*3*nm),ny,nx))\n",
    "        sst_an_thr[ikey][im,...]=da.apply_along_axis(np.quantile,q=qtiles,axis=0,arr=temp,shape=(len(qtiles),),dtype=np.float64).compute()\n",
    "        print(dt.datetime.now())"
   ]
  },
  {
   "cell_type": "code",
   "execution_count": 6,
   "id": "cdf13fe5-9f52-4ee1-b05d-4ecdd70e8731",
   "metadata": {},
   "outputs": [
    {
     "data": {
      "text/plain": [
       "{('GN',\n",
       "  'base'): dask.array<setitem, shape=(12, 1, 180, 360), dtype=float64, chunksize=(12, 1, 180, 360), chunktype=numpy.ndarray>,\n",
       " ('C5',\n",
       "  'base'): dask.array<setitem, shape=(12, 1, 180, 360), dtype=float64, chunksize=(12, 1, 180, 360), chunktype=numpy.ndarray>,\n",
       " ('GN',\n",
       "  'detr'): dask.array<setitem, shape=(12, 1, 180, 360), dtype=float64, chunksize=(12, 1, 180, 360), chunktype=numpy.ndarray>,\n",
       " ('C5',\n",
       "  'detr'): dask.array<setitem, shape=(12, 1, 180, 360), dtype=float64, chunksize=(12, 1, 180, 360), chunktype=numpy.ndarray>}"
      ]
     },
     "execution_count": 6,
     "metadata": {},
     "output_type": "execute_result"
    }
   ],
   "source": [
    "sst_an_thr"
   ]
  },
  {
   "cell_type": "code",
   "execution_count": 7,
   "id": "1710e3cd-cf2c-4259-8743-cbdd847f7793",
   "metadata": {},
   "outputs": [
    {
     "name": "stderr",
     "output_type": "stream",
     "text": [
      "/home/ords/crd/ccrn/reo000/miniconda3/envs/py39dc2/lib/python3.9/site-packages/dask/array/core.py:4832: PerformanceWarning: Increasing number of chunks by factor of 12\n",
      "  result = blockwise(\n"
     ]
    },
    {
     "name": "stdout",
     "output_type": "stream",
     "text": [
      "(360, 20, 180, 360)\n",
      "(360, 20, 180, 360)\n"
     ]
    },
    {
     "name": "stderr",
     "output_type": "stream",
     "text": [
      "/home/ords/crd/ccrn/reo000/miniconda3/envs/py39dc2/lib/python3.9/site-packages/dask/array/core.py:4832: PerformanceWarning: Increasing number of chunks by factor of 12\n",
      "  result = blockwise(\n",
      "/home/ords/crd/ccrn/reo000/miniconda3/envs/py39dc2/lib/python3.9/site-packages/dask/array/core.py:4832: PerformanceWarning: Increasing number of chunks by factor of 12\n",
      "  result = blockwise(\n"
     ]
    },
    {
     "name": "stdout",
     "output_type": "stream",
     "text": [
      "(360, 20, 180, 360)\n",
      "(360, 20, 180, 360)\n"
     ]
    },
    {
     "name": "stderr",
     "output_type": "stream",
     "text": [
      "/home/ords/crd/ccrn/reo000/miniconda3/envs/py39dc2/lib/python3.9/site-packages/dask/array/core.py:4832: PerformanceWarning: Increasing number of chunks by factor of 12\n",
      "  result = blockwise(\n"
     ]
    }
   ],
   "source": [
    "is_mhw={ikey:da.zeros(np.shape(anom[ikey])) for ikey in akeys} #initialize mhw arrays\n",
    "dsout={}\n",
    "for ikey in akeys:\n",
    "    is_mhw[ikey]=da.where(anom[ikey]>da.tile(sst_an_thr[ikey],(int(nt/12),nm,1,1)),1,0)\n",
    "    print(is_mhw[ikey].shape)"
   ]
  },
  {
   "cell_type": "code",
   "execution_count": 8,
   "id": "7af51980-c84e-42f2-8e7f-8a3bf04d2b0f",
   "metadata": {},
   "outputs": [
    {
     "data": {
      "text/html": [
       "<table>\n",
       "    <tr>\n",
       "        <td>\n",
       "            <table style=\"border-collapse: collapse;\">\n",
       "                <thead>\n",
       "                    <tr>\n",
       "                        <td> </td>\n",
       "                        <th> Array </th>\n",
       "                        <th> Chunk </th>\n",
       "                    </tr>\n",
       "                </thead>\n",
       "                <tbody>\n",
       "                    \n",
       "                    <tr>\n",
       "                        <th> Bytes </th>\n",
       "                        <td> 3.48 GiB </td>\n",
       "                        <td> 506.25 kiB </td>\n",
       "                    </tr>\n",
       "                    \n",
       "                    <tr>\n",
       "                        <th> Shape </th>\n",
       "                        <td> (360, 20, 180, 360) </td>\n",
       "                        <td> (12, 1, 60, 90) </td>\n",
       "                    </tr>\n",
       "                    <tr>\n",
       "                        <th> Dask graph </th>\n",
       "                        <td colspan=\"2\"> 7200 chunks in 22 graph layers </td>\n",
       "                    </tr>\n",
       "                    <tr>\n",
       "                        <th> Data type </th>\n",
       "                        <td colspan=\"2\"> int64 numpy.ndarray </td>\n",
       "                    </tr>\n",
       "                </tbody>\n",
       "            </table>\n",
       "        </td>\n",
       "        <td>\n",
       "        <svg width=\"570\" height=\"130\" style=\"stroke:rgb(0,0,0);stroke-width:1\" >\n",
       "\n",
       "  <!-- Horizontal lines -->\n",
       "  <line x1=\"0\" y1=\"0\" x2=\"120\" y2=\"0\" style=\"stroke-width:2\" />\n",
       "  <line x1=\"0\" y1=\"25\" x2=\"120\" y2=\"25\" style=\"stroke-width:2\" />\n",
       "\n",
       "  <!-- Vertical lines -->\n",
       "  <line x1=\"0\" y1=\"0\" x2=\"0\" y2=\"25\" style=\"stroke-width:2\" />\n",
       "  <line x1=\"4\" y1=\"0\" x2=\"4\" y2=\"25\" />\n",
       "  <line x1=\"8\" y1=\"0\" x2=\"8\" y2=\"25\" />\n",
       "  <line x1=\"12\" y1=\"0\" x2=\"12\" y2=\"25\" />\n",
       "  <line x1=\"16\" y1=\"0\" x2=\"16\" y2=\"25\" />\n",
       "  <line x1=\"20\" y1=\"0\" x2=\"20\" y2=\"25\" />\n",
       "  <line x1=\"24\" y1=\"0\" x2=\"24\" y2=\"25\" />\n",
       "  <line x1=\"28\" y1=\"0\" x2=\"28\" y2=\"25\" />\n",
       "  <line x1=\"32\" y1=\"0\" x2=\"32\" y2=\"25\" />\n",
       "  <line x1=\"36\" y1=\"0\" x2=\"36\" y2=\"25\" />\n",
       "  <line x1=\"40\" y1=\"0\" x2=\"40\" y2=\"25\" />\n",
       "  <line x1=\"44\" y1=\"0\" x2=\"44\" y2=\"25\" />\n",
       "  <line x1=\"48\" y1=\"0\" x2=\"48\" y2=\"25\" />\n",
       "  <line x1=\"52\" y1=\"0\" x2=\"52\" y2=\"25\" />\n",
       "  <line x1=\"56\" y1=\"0\" x2=\"56\" y2=\"25\" />\n",
       "  <line x1=\"60\" y1=\"0\" x2=\"60\" y2=\"25\" />\n",
       "  <line x1=\"64\" y1=\"0\" x2=\"64\" y2=\"25\" />\n",
       "  <line x1=\"68\" y1=\"0\" x2=\"68\" y2=\"25\" />\n",
       "  <line x1=\"72\" y1=\"0\" x2=\"72\" y2=\"25\" />\n",
       "  <line x1=\"76\" y1=\"0\" x2=\"76\" y2=\"25\" />\n",
       "  <line x1=\"80\" y1=\"0\" x2=\"80\" y2=\"25\" />\n",
       "  <line x1=\"84\" y1=\"0\" x2=\"84\" y2=\"25\" />\n",
       "  <line x1=\"88\" y1=\"0\" x2=\"88\" y2=\"25\" />\n",
       "  <line x1=\"92\" y1=\"0\" x2=\"92\" y2=\"25\" />\n",
       "  <line x1=\"96\" y1=\"0\" x2=\"96\" y2=\"25\" />\n",
       "  <line x1=\"100\" y1=\"0\" x2=\"100\" y2=\"25\" />\n",
       "  <line x1=\"104\" y1=\"0\" x2=\"104\" y2=\"25\" />\n",
       "  <line x1=\"108\" y1=\"0\" x2=\"108\" y2=\"25\" />\n",
       "  <line x1=\"112\" y1=\"0\" x2=\"112\" y2=\"25\" />\n",
       "  <line x1=\"116\" y1=\"0\" x2=\"116\" y2=\"25\" />\n",
       "  <line x1=\"120\" y1=\"0\" x2=\"120\" y2=\"25\" style=\"stroke-width:2\" />\n",
       "\n",
       "  <!-- Colored Rectangle -->\n",
       "  <polygon points=\"0.0,0.0 120.0,0.0 120.0,25.412616514582485 0.0,25.412616514582485\" style=\"fill:#ECB172A0;stroke-width:0\"/>\n",
       "\n",
       "  <!-- Text -->\n",
       "  <text x=\"60.000000\" y=\"45.412617\" font-size=\"1.0rem\" font-weight=\"100\" text-anchor=\"middle\" >360</text>\n",
       "  <text x=\"140.000000\" y=\"12.706308\" font-size=\"1.0rem\" font-weight=\"100\" text-anchor=\"middle\" transform=\"rotate(0,140.000000,12.706308)\">1</text>\n",
       "\n",
       "\n",
       "  <!-- Horizontal lines -->\n",
       "  <line x1=\"190\" y1=\"0\" x2=\"210\" y2=\"20\" style=\"stroke-width:2\" />\n",
       "  <line x1=\"190\" y1=\"20\" x2=\"210\" y2=\"40\" />\n",
       "  <line x1=\"190\" y1=\"40\" x2=\"210\" y2=\"60\" />\n",
       "  <line x1=\"190\" y1=\"60\" x2=\"210\" y2=\"80\" style=\"stroke-width:2\" />\n",
       "\n",
       "  <!-- Vertical lines -->\n",
       "  <line x1=\"190\" y1=\"0\" x2=\"190\" y2=\"60\" style=\"stroke-width:2\" />\n",
       "  <line x1=\"191\" y1=\"1\" x2=\"191\" y2=\"61\" />\n",
       "  <line x1=\"192\" y1=\"2\" x2=\"192\" y2=\"62\" />\n",
       "  <line x1=\"193\" y1=\"3\" x2=\"193\" y2=\"63\" />\n",
       "  <line x1=\"194\" y1=\"4\" x2=\"194\" y2=\"64\" />\n",
       "  <line x1=\"195\" y1=\"5\" x2=\"195\" y2=\"65\" />\n",
       "  <line x1=\"196\" y1=\"6\" x2=\"196\" y2=\"66\" />\n",
       "  <line x1=\"197\" y1=\"7\" x2=\"197\" y2=\"67\" />\n",
       "  <line x1=\"198\" y1=\"8\" x2=\"198\" y2=\"68\" />\n",
       "  <line x1=\"199\" y1=\"9\" x2=\"199\" y2=\"69\" />\n",
       "  <line x1=\"200\" y1=\"10\" x2=\"200\" y2=\"70\" />\n",
       "  <line x1=\"201\" y1=\"11\" x2=\"201\" y2=\"71\" />\n",
       "  <line x1=\"202\" y1=\"12\" x2=\"202\" y2=\"72\" />\n",
       "  <line x1=\"203\" y1=\"13\" x2=\"203\" y2=\"73\" />\n",
       "  <line x1=\"204\" y1=\"14\" x2=\"204\" y2=\"74\" />\n",
       "  <line x1=\"205\" y1=\"15\" x2=\"205\" y2=\"75\" />\n",
       "  <line x1=\"206\" y1=\"16\" x2=\"206\" y2=\"76\" />\n",
       "  <line x1=\"207\" y1=\"17\" x2=\"207\" y2=\"77\" />\n",
       "  <line x1=\"208\" y1=\"18\" x2=\"208\" y2=\"78\" />\n",
       "  <line x1=\"209\" y1=\"19\" x2=\"209\" y2=\"79\" />\n",
       "  <line x1=\"210\" y1=\"20\" x2=\"210\" y2=\"80\" style=\"stroke-width:2\" />\n",
       "\n",
       "  <!-- Colored Rectangle -->\n",
       "  <polygon points=\"190.0,0.0 210.67342854737376,20.673428547373774 210.67342854737376,80.67342854737377 190.0,60.0\" style=\"fill:#ECB172A0;stroke-width:0\"/>\n",
       "\n",
       "  <!-- Horizontal lines -->\n",
       "  <line x1=\"190\" y1=\"0\" x2=\"310\" y2=\"0\" style=\"stroke-width:2\" />\n",
       "  <line x1=\"191\" y1=\"1\" x2=\"311\" y2=\"1\" />\n",
       "  <line x1=\"192\" y1=\"2\" x2=\"312\" y2=\"2\" />\n",
       "  <line x1=\"193\" y1=\"3\" x2=\"313\" y2=\"3\" />\n",
       "  <line x1=\"194\" y1=\"4\" x2=\"314\" y2=\"4\" />\n",
       "  <line x1=\"195\" y1=\"5\" x2=\"315\" y2=\"5\" />\n",
       "  <line x1=\"196\" y1=\"6\" x2=\"316\" y2=\"6\" />\n",
       "  <line x1=\"197\" y1=\"7\" x2=\"317\" y2=\"7\" />\n",
       "  <line x1=\"198\" y1=\"8\" x2=\"318\" y2=\"8\" />\n",
       "  <line x1=\"199\" y1=\"9\" x2=\"319\" y2=\"9\" />\n",
       "  <line x1=\"200\" y1=\"10\" x2=\"320\" y2=\"10\" />\n",
       "  <line x1=\"201\" y1=\"11\" x2=\"321\" y2=\"11\" />\n",
       "  <line x1=\"202\" y1=\"12\" x2=\"322\" y2=\"12\" />\n",
       "  <line x1=\"203\" y1=\"13\" x2=\"323\" y2=\"13\" />\n",
       "  <line x1=\"204\" y1=\"14\" x2=\"324\" y2=\"14\" />\n",
       "  <line x1=\"205\" y1=\"15\" x2=\"325\" y2=\"15\" />\n",
       "  <line x1=\"206\" y1=\"16\" x2=\"326\" y2=\"16\" />\n",
       "  <line x1=\"207\" y1=\"17\" x2=\"327\" y2=\"17\" />\n",
       "  <line x1=\"208\" y1=\"18\" x2=\"328\" y2=\"18\" />\n",
       "  <line x1=\"209\" y1=\"19\" x2=\"329\" y2=\"19\" />\n",
       "  <line x1=\"210\" y1=\"20\" x2=\"330\" y2=\"20\" style=\"stroke-width:2\" />\n",
       "\n",
       "  <!-- Vertical lines -->\n",
       "  <line x1=\"190\" y1=\"0\" x2=\"210\" y2=\"20\" style=\"stroke-width:2\" />\n",
       "  <line x1=\"220\" y1=\"0\" x2=\"240\" y2=\"20\" />\n",
       "  <line x1=\"250\" y1=\"0\" x2=\"270\" y2=\"20\" />\n",
       "  <line x1=\"280\" y1=\"0\" x2=\"300\" y2=\"20\" />\n",
       "  <line x1=\"310\" y1=\"0\" x2=\"330\" y2=\"20\" style=\"stroke-width:2\" />\n",
       "\n",
       "  <!-- Colored Rectangle -->\n",
       "  <polygon points=\"190.0,0.0 310.0,0.0 330.67342854737376,20.673428547373774 210.67342854737376,20.673428547373774\" style=\"fill:#ECB172A0;stroke-width:0\"/>\n",
       "\n",
       "  <!-- Horizontal lines -->\n",
       "  <line x1=\"210\" y1=\"20\" x2=\"330\" y2=\"20\" style=\"stroke-width:2\" />\n",
       "  <line x1=\"210\" y1=\"40\" x2=\"330\" y2=\"40\" />\n",
       "  <line x1=\"210\" y1=\"60\" x2=\"330\" y2=\"60\" />\n",
       "  <line x1=\"210\" y1=\"80\" x2=\"330\" y2=\"80\" style=\"stroke-width:2\" />\n",
       "\n",
       "  <!-- Vertical lines -->\n",
       "  <line x1=\"210\" y1=\"20\" x2=\"210\" y2=\"80\" style=\"stroke-width:2\" />\n",
       "  <line x1=\"240\" y1=\"20\" x2=\"240\" y2=\"80\" />\n",
       "  <line x1=\"270\" y1=\"20\" x2=\"270\" y2=\"80\" />\n",
       "  <line x1=\"300\" y1=\"20\" x2=\"300\" y2=\"80\" />\n",
       "  <line x1=\"330\" y1=\"20\" x2=\"330\" y2=\"80\" style=\"stroke-width:2\" />\n",
       "\n",
       "  <!-- Colored Rectangle -->\n",
       "  <polygon points=\"210.67342854737376,20.673428547373774 330.67342854737376,20.673428547373774 330.67342854737376,80.67342854737377 210.67342854737376,80.67342854737377\" style=\"fill:#ECB172A0;stroke-width:0\"/>\n",
       "\n",
       "  <!-- Text -->\n",
       "  <text x=\"270.673429\" y=\"100.673429\" font-size=\"1.0rem\" font-weight=\"100\" text-anchor=\"middle\" >360</text>\n",
       "  <text x=\"350.673429\" y=\"50.673429\" font-size=\"1.0rem\" font-weight=\"100\" text-anchor=\"middle\" transform=\"rotate(-90,350.673429,50.673429)\">180</text>\n",
       "  <text x=\"190.336714\" y=\"90.336714\" font-size=\"1.0rem\" font-weight=\"100\" text-anchor=\"middle\" transform=\"rotate(45,190.336714,90.336714)\">20</text>\n",
       "</svg>\n",
       "        </td>\n",
       "    </tr>\n",
       "</table>"
      ],
      "text/plain": [
       "dask.array<where, shape=(360, 20, 180, 360), dtype=int64, chunksize=(12, 1, 60, 90), chunktype=numpy.ndarray>"
      ]
     },
     "execution_count": 8,
     "metadata": {},
     "output_type": "execute_result"
    }
   ],
   "source": [
    "is_mhw[('GN','base')]"
   ]
  },
  {
   "cell_type": "code",
   "execution_count": 10,
   "id": "9976accf-ea45-4339-997e-9b94789933f4",
   "metadata": {},
   "outputs": [],
   "source": [
    "for dval in ('base','detr'):\n",
    "    dsout=xr.Dataset(data_vars={'start_time':ff[('GN',dval)].start_time,\n",
    "                            'mhw':(['S','M','Y','X'],da.concatenate([is_mhw[('GN',dval)],is_mhw[('GN',dval)]],axis=1))},\n",
    "                coords=dict(lon=ff[('GN',dval)].lon,lat=ff[('GN',dval)].lat,M=np.arange(1,41),S=ff[('GN',dval)].S),)\n",
    "    f_out=mhwfile(il,years,dval)\n",
    "    dsout.to_netcdf(f_out,'w')"
   ]
  },
  {
   "cell_type": "code",
   "execution_count": null,
   "id": "64eadd66-5a11-4f5a-b42b-125506986155",
   "metadata": {},
   "outputs": [],
   "source": []
  }
 ],
 "metadata": {
  "kernelspec": {
   "display_name": "Python (py39dc2)",
   "language": "python",
   "name": "py39dc2"
  },
  "language_info": {
   "codemirror_mode": {
    "name": "ipython",
    "version": 3
   },
   "file_extension": ".py",
   "mimetype": "text/x-python",
   "name": "python",
   "nbconvert_exporter": "python",
   "pygments_lexer": "ipython3",
   "version": "3.9.19"
  }
 },
 "nbformat": 4,
 "nbformat_minor": 5
}
