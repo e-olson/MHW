{
 "cells": [
  {
   "cell_type": "code",
   "execution_count": null,
   "id": "3755f244-0b95-4879-967c-9cdf654028c9",
   "metadata": {},
   "outputs": [],
   "source": [
    "import os\n",
    "import sys\n",
    "import subprocess\n",
    "import datetime as dt\n",
    "import itertools\n",
    "import numpy as np\n",
    "import xarray as xr\n",
    "from dask.distributed import Client, LocalCluster, wait\n",
    "import dask.array as da\n",
    "import matplotlib.pyplot as plt\n",
    "from MHW_daily_calcs import *"
   ]
  },
  {
   "cell_type": "code",
   "execution_count": null,
   "id": "5263bbc1-6c36-4923-8c69-e751f642414b",
   "metadata": {},
   "outputs": [],
   "source": [
    "fnameCanESMAnomByLeadSClim=lambda mdir, climyfirst, climylast, ilead, istartlat,meth,win"
   ]
  },
  {
   "cell_type": "code",
   "execution_count": null,
   "id": "8fefd9bd-aa1d-43e0-851b-57bc986b1f92",
   "metadata": {},
   "outputs": [],
   "source": [
    "    fin=fnameCanESMAnomByLeadSClim(workdir, climyrs[0], climyrs[-1], ilead, jj,'tri',10)\n",
    "    #fout=fnameCanESMAnomDetrByLeadSClimSDet(workdir, climyrs[0], climyrs[-1], ilead, jj,'tri',10)"
   ]
  },
  {
   "cell_type": "code",
   "execution_count": null,
   "id": "11f1467b-b594-4a1e-ae33-ac36dffeb47c",
   "metadata": {},
   "outputs": [],
   "source": [
    "    data=np.asarray(data)\n",
    "    dshape = data.shape\n",
    "    N=dshape[0]\n",
    "    R=dshape[1]\n",
    "    X=np.concatenate([np.ones((R*N,1)),(np.arange(0,N).reshape((N,1))*np.ones((N,R))).reshape((R*N,-1))],1)\n",
    "    assert R*N==len(X) # check correct dimensions\n",
    "    newdata = np.reshape(data,(R*N, np.prod(dshape, axis=0) // (R*N))).copy() # // is floor division; ensure copy\n",
    "    b=np.linalg.lstsq(X,newdata,rcond=None)[0] # res=np.sum((np.dot(X,b)-Y)**2)\n",
    "    ydetr=newdata-np.dot(X,b)\n",
    "    ydetr=np.reshape(ydetr,dshape)"
   ]
  }
 ],
 "metadata": {
  "kernelspec": {
   "display_name": "Python (py12MHW)",
   "language": "python",
   "name": "py12mhw"
  },
  "language_info": {
   "codemirror_mode": {
    "name": "ipython",
    "version": 3
   },
   "file_extension": ".py",
   "mimetype": "text/x-python",
   "name": "python",
   "nbconvert_exporter": "python",
   "pygments_lexer": "ipython3",
   "version": "3.12.5"
  }
 },
 "nbformat": 4,
 "nbformat_minor": 5
}
