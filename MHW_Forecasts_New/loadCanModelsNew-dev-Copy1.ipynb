{
 "cells": [
  {
   "cell_type": "code",
   "execution_count": 1,
   "id": "ec71f286-3041-4a1c-9c9b-d08e155c5e85",
   "metadata": {},
   "outputs": [],
   "source": [
    "import numpy as np\n",
    "import xarray as xr\n",
    "import netCDF4 as nc\n",
    "import matplotlib.pyplot as plt\n",
    "import os\n",
    "import glob\n",
    "import dask.array as da\n",
    "import datetime as dt"
   ]
  },
  {
   "cell_type": "code",
   "execution_count": 2,
   "id": "6771ca3b-ae29-424a-8e57-5a0f61cf1929",
   "metadata": {},
   "outputs": [],
   "source": [
    "# ind=(mm==(im-1)%12)|(mm==im)|(mm==(im+1)%12) # 3 month groups running mean"
   ]
  },
  {
   "cell_type": "code",
   "execution_count": 3,
   "id": "50c157bb-717b-453f-9670-2d370d3e5d68",
   "metadata": {},
   "outputs": [],
   "source": [
    "f=xr.open_dataset('/space/hall5/sitestore/eccc/crd/ccrn/users/reo000/work/MHW/newHindcastMonthly/sst_HC_l0_1991_2020.nc')"
   ]
  },
  {
   "cell_type": "code",
   "execution_count": 4,
   "id": "73508f6f-5ad8-4703-899e-ccadbee9476b",
   "metadata": {},
   "outputs": [],
   "source": [
    "# ensemble members 1-20 = GEM5.2-NEMO\n",
    "# ensemble members 21-40 = CanESM5\n",
    "ens=dict(GN=f.sst.isel(M=slice(0,20)),\n",
    "         C5=f.sst.isel(M=slice(20,40)))"
   ]
  },
  {
   "cell_type": "code",
   "execution_count": 5,
   "id": "0352155a-3b8a-40c6-b373-d10859663e59",
   "metadata": {},
   "outputs": [],
   "source": [
    "Emean={}\n",
    "for imod in ('GM','C5'):\n",
    "    Emean[imod]=ens[imod]\n",
    "GN_Emean=GN.mean(dim='M',keepdims=True)"
   ]
  },
  {
   "cell_type": "code",
   "execution_count": 6,
   "id": "8e72ee9e-2e21-4554-938e-40de9a1c87fc",
   "metadata": {},
   "outputs": [],
   "source": [
    "C5_Emean=C5.mean(dim='M',keepdims=True)"
   ]
  },
  {
   "cell_type": "code",
   "execution_count": 7,
   "id": "fdc73284-46d6-4429-8b59-a068f0badae5",
   "metadata": {},
   "outputs": [
    {
     "data": {
      "text/plain": [
       "(108, 20, 180, 360)"
      ]
     },
     "execution_count": 7,
     "metadata": {},
     "output_type": "execute_result"
    }
   ],
   "source": [
    "nt,nm,ny,nx=np.shape(C5)\n",
    "nt,nm,ny,nx"
   ]
  },
  {
   "cell_type": "code",
   "execution_count": 8,
   "id": "852657fb-dc3a-4263-969d-eb2bfe3ea14f",
   "metadata": {},
   "outputs": [],
   "source": [
    "GN_clim=da.zeros((12,1,ny,nx))\n",
    "C5_clim=da.zeros((12,1,ny,nx))"
   ]
  },
  {
   "cell_type": "code",
   "execution_count": 9,
   "id": "a0523919-a854-499c-864f-5f2a4f8dff68",
   "metadata": {},
   "outputs": [
    {
     "data": {
      "text/html": [
       "<table>\n",
       "    <tr>\n",
       "        <td>\n",
       "            <table style=\"border-collapse: collapse;\">\n",
       "                <thead>\n",
       "                    <tr>\n",
       "                        <td> </td>\n",
       "                        <th> Array </th>\n",
       "                        <th> Chunk </th>\n",
       "                    </tr>\n",
       "                </thead>\n",
       "                <tbody>\n",
       "                    \n",
       "                    <tr>\n",
       "                        <th> Bytes </th>\n",
       "                        <td> 5.93 MiB </td>\n",
       "                        <td> 5.93 MiB </td>\n",
       "                    </tr>\n",
       "                    \n",
       "                    <tr>\n",
       "                        <th> Shape </th>\n",
       "                        <td> (12, 1, 180, 360) </td>\n",
       "                        <td> (12, 1, 180, 360) </td>\n",
       "                    </tr>\n",
       "                    <tr>\n",
       "                        <th> Dask graph </th>\n",
       "                        <td colspan=\"2\"> 1 chunks in 1 graph layer </td>\n",
       "                    </tr>\n",
       "                    <tr>\n",
       "                        <th> Data type </th>\n",
       "                        <td colspan=\"2\"> float64 numpy.ndarray </td>\n",
       "                    </tr>\n",
       "                </tbody>\n",
       "            </table>\n",
       "        </td>\n",
       "        <td>\n",
       "        <svg width=\"388\" height=\"124\" style=\"stroke:rgb(0,0,0);stroke-width:1\" >\n",
       "\n",
       "  <!-- Horizontal lines -->\n",
       "  <line x1=\"0\" y1=\"0\" x2=\"32\" y2=\"0\" style=\"stroke-width:2\" />\n",
       "  <line x1=\"0\" y1=\"25\" x2=\"32\" y2=\"25\" style=\"stroke-width:2\" />\n",
       "\n",
       "  <!-- Vertical lines -->\n",
       "  <line x1=\"0\" y1=\"0\" x2=\"0\" y2=\"25\" style=\"stroke-width:2\" />\n",
       "  <line x1=\"32\" y1=\"0\" x2=\"32\" y2=\"25\" style=\"stroke-width:2\" />\n",
       "\n",
       "  <!-- Colored Rectangle -->\n",
       "  <polygon points=\"0.0,0.0 32.02435249410096,0.0 32.02435249410096,25.412616514582485 0.0,25.412616514582485\" style=\"fill:#ECB172A0;stroke-width:0\"/>\n",
       "\n",
       "  <!-- Text -->\n",
       "  <text x=\"16.012176\" y=\"45.412617\" font-size=\"1.0rem\" font-weight=\"100\" text-anchor=\"middle\" >12</text>\n",
       "  <text x=\"52.024352\" y=\"12.706308\" font-size=\"1.0rem\" font-weight=\"100\" text-anchor=\"middle\" transform=\"rotate(0,52.024352,12.706308)\">1</text>\n",
       "\n",
       "\n",
       "  <!-- Horizontal lines -->\n",
       "  <line x1=\"102\" y1=\"0\" x2=\"116\" y2=\"14\" style=\"stroke-width:2\" />\n",
       "  <line x1=\"102\" y1=\"60\" x2=\"116\" y2=\"74\" style=\"stroke-width:2\" />\n",
       "\n",
       "  <!-- Vertical lines -->\n",
       "  <line x1=\"102\" y1=\"0\" x2=\"102\" y2=\"60\" style=\"stroke-width:2\" />\n",
       "  <line x1=\"116\" y1=\"14\" x2=\"116\" y2=\"74\" style=\"stroke-width:2\" />\n",
       "\n",
       "  <!-- Colored Rectangle -->\n",
       "  <polygon points=\"102.0,0.0 116.9485979497544,14.948597949754403 116.9485979497544,74.9485979497544 102.0,60.0\" style=\"fill:#ECB172A0;stroke-width:0\"/>\n",
       "\n",
       "  <!-- Horizontal lines -->\n",
       "  <line x1=\"102\" y1=\"0\" x2=\"222\" y2=\"0\" style=\"stroke-width:2\" />\n",
       "  <line x1=\"116\" y1=\"14\" x2=\"236\" y2=\"14\" style=\"stroke-width:2\" />\n",
       "\n",
       "  <!-- Vertical lines -->\n",
       "  <line x1=\"102\" y1=\"0\" x2=\"116\" y2=\"14\" style=\"stroke-width:2\" />\n",
       "  <line x1=\"222\" y1=\"0\" x2=\"236\" y2=\"14\" style=\"stroke-width:2\" />\n",
       "\n",
       "  <!-- Colored Rectangle -->\n",
       "  <polygon points=\"102.0,0.0 222.0,0.0 236.9485979497544,14.948597949754403 116.9485979497544,14.948597949754403\" style=\"fill:#ECB172A0;stroke-width:0\"/>\n",
       "\n",
       "  <!-- Horizontal lines -->\n",
       "  <line x1=\"116\" y1=\"14\" x2=\"236\" y2=\"14\" style=\"stroke-width:2\" />\n",
       "  <line x1=\"116\" y1=\"74\" x2=\"236\" y2=\"74\" style=\"stroke-width:2\" />\n",
       "\n",
       "  <!-- Vertical lines -->\n",
       "  <line x1=\"116\" y1=\"14\" x2=\"116\" y2=\"74\" style=\"stroke-width:2\" />\n",
       "  <line x1=\"236\" y1=\"14\" x2=\"236\" y2=\"74\" style=\"stroke-width:2\" />\n",
       "\n",
       "  <!-- Colored Rectangle -->\n",
       "  <polygon points=\"116.9485979497544,14.948597949754403 236.9485979497544,14.948597949754403 236.9485979497544,74.9485979497544 116.9485979497544,74.9485979497544\" style=\"fill:#ECB172A0;stroke-width:0\"/>\n",
       "\n",
       "  <!-- Text -->\n",
       "  <text x=\"176.948598\" y=\"94.948598\" font-size=\"1.0rem\" font-weight=\"100\" text-anchor=\"middle\" >360</text>\n",
       "  <text x=\"256.948598\" y=\"44.948598\" font-size=\"1.0rem\" font-weight=\"100\" text-anchor=\"middle\" transform=\"rotate(-90,256.948598,44.948598)\">180</text>\n",
       "  <text x=\"99.474299\" y=\"87.474299\" font-size=\"1.0rem\" font-weight=\"100\" text-anchor=\"middle\" transform=\"rotate(45,99.474299,87.474299)\">1</text>\n",
       "</svg>\n",
       "        </td>\n",
       "    </tr>\n",
       "</table>"
      ],
      "text/plain": [
       "dask.array<zeros_like, shape=(12, 1, 180, 360), dtype=float64, chunksize=(12, 1, 180, 360), chunktype=numpy.ndarray>"
      ]
     },
     "execution_count": 9,
     "metadata": {},
     "output_type": "execute_result"
    }
   ],
   "source": [
    "GN_clim"
   ]
  },
  {
   "cell_type": "code",
   "execution_count": 10,
   "id": "944fbf34-155c-4cab-9ea1-82c2edb238b5",
   "metadata": {},
   "outputs": [
    {
     "name": "stdout",
     "output_type": "stream",
     "text": [
      "2024-08-13 22:55:02.783747\n",
      "2024-08-13 22:55:02.790527\n",
      "2024-08-13 22:55:02.795683\n",
      "2024-08-13 22:55:02.800842\n",
      "2024-08-13 22:55:02.805843\n",
      "2024-08-13 22:55:02.810894\n",
      "2024-08-13 22:55:02.815841\n",
      "2024-08-13 22:55:02.820830\n",
      "2024-08-13 22:55:02.825916\n",
      "2024-08-13 22:55:02.830984\n",
      "2024-08-13 22:55:02.836031\n",
      "2024-08-13 22:55:02.841060\n",
      "2024-08-13 22:55:02.845712\n"
     ]
    }
   ],
   "source": [
    "print(dt.datetime.now())\n",
    "for im in range(0,12):\n",
    "    GN_clim[im,...]=GN_Emean.isel(S=slice(im,-1,12)).mean(dim='S').compute()\n",
    "    C5_clim[im,...]=C5_Emean.isel(S=slice(im,-1,12)).mean(dim='S').compute()\n",
    "    print(dt.datetime.now())"
   ]
  },
  {
   "cell_type": "code",
   "execution_count": 11,
   "id": "65988d14-3272-4bd2-ad32-f2fc87f59988",
   "metadata": {},
   "outputs": [
    {
     "data": {
      "text/html": [
       "<table>\n",
       "    <tr>\n",
       "        <td>\n",
       "            <table style=\"border-collapse: collapse;\">\n",
       "                <thead>\n",
       "                    <tr>\n",
       "                        <td> </td>\n",
       "                        <th> Array </th>\n",
       "                        <th> Chunk </th>\n",
       "                    </tr>\n",
       "                </thead>\n",
       "                <tbody>\n",
       "                    \n",
       "                    <tr>\n",
       "                        <th> Bytes </th>\n",
       "                        <td> 5.93 MiB </td>\n",
       "                        <td> 5.93 MiB </td>\n",
       "                    </tr>\n",
       "                    \n",
       "                    <tr>\n",
       "                        <th> Shape </th>\n",
       "                        <td> (12, 1, 180, 360) </td>\n",
       "                        <td> (12, 1, 180, 360) </td>\n",
       "                    </tr>\n",
       "                    <tr>\n",
       "                        <th> Dask graph </th>\n",
       "                        <td colspan=\"2\"> 1 chunks in 13 graph layers </td>\n",
       "                    </tr>\n",
       "                    <tr>\n",
       "                        <th> Data type </th>\n",
       "                        <td colspan=\"2\"> float64 numpy.ndarray </td>\n",
       "                    </tr>\n",
       "                </tbody>\n",
       "            </table>\n",
       "        </td>\n",
       "        <td>\n",
       "        <svg width=\"388\" height=\"124\" style=\"stroke:rgb(0,0,0);stroke-width:1\" >\n",
       "\n",
       "  <!-- Horizontal lines -->\n",
       "  <line x1=\"0\" y1=\"0\" x2=\"32\" y2=\"0\" style=\"stroke-width:2\" />\n",
       "  <line x1=\"0\" y1=\"25\" x2=\"32\" y2=\"25\" style=\"stroke-width:2\" />\n",
       "\n",
       "  <!-- Vertical lines -->\n",
       "  <line x1=\"0\" y1=\"0\" x2=\"0\" y2=\"25\" style=\"stroke-width:2\" />\n",
       "  <line x1=\"32\" y1=\"0\" x2=\"32\" y2=\"25\" style=\"stroke-width:2\" />\n",
       "\n",
       "  <!-- Colored Rectangle -->\n",
       "  <polygon points=\"0.0,0.0 32.02435249410096,0.0 32.02435249410096,25.412616514582485 0.0,25.412616514582485\" style=\"fill:#ECB172A0;stroke-width:0\"/>\n",
       "\n",
       "  <!-- Text -->\n",
       "  <text x=\"16.012176\" y=\"45.412617\" font-size=\"1.0rem\" font-weight=\"100\" text-anchor=\"middle\" >12</text>\n",
       "  <text x=\"52.024352\" y=\"12.706308\" font-size=\"1.0rem\" font-weight=\"100\" text-anchor=\"middle\" transform=\"rotate(0,52.024352,12.706308)\">1</text>\n",
       "\n",
       "\n",
       "  <!-- Horizontal lines -->\n",
       "  <line x1=\"102\" y1=\"0\" x2=\"116\" y2=\"14\" style=\"stroke-width:2\" />\n",
       "  <line x1=\"102\" y1=\"60\" x2=\"116\" y2=\"74\" style=\"stroke-width:2\" />\n",
       "\n",
       "  <!-- Vertical lines -->\n",
       "  <line x1=\"102\" y1=\"0\" x2=\"102\" y2=\"60\" style=\"stroke-width:2\" />\n",
       "  <line x1=\"116\" y1=\"14\" x2=\"116\" y2=\"74\" style=\"stroke-width:2\" />\n",
       "\n",
       "  <!-- Colored Rectangle -->\n",
       "  <polygon points=\"102.0,0.0 116.9485979497544,14.948597949754403 116.9485979497544,74.9485979497544 102.0,60.0\" style=\"fill:#ECB172A0;stroke-width:0\"/>\n",
       "\n",
       "  <!-- Horizontal lines -->\n",
       "  <line x1=\"102\" y1=\"0\" x2=\"222\" y2=\"0\" style=\"stroke-width:2\" />\n",
       "  <line x1=\"116\" y1=\"14\" x2=\"236\" y2=\"14\" style=\"stroke-width:2\" />\n",
       "\n",
       "  <!-- Vertical lines -->\n",
       "  <line x1=\"102\" y1=\"0\" x2=\"116\" y2=\"14\" style=\"stroke-width:2\" />\n",
       "  <line x1=\"222\" y1=\"0\" x2=\"236\" y2=\"14\" style=\"stroke-width:2\" />\n",
       "\n",
       "  <!-- Colored Rectangle -->\n",
       "  <polygon points=\"102.0,0.0 222.0,0.0 236.9485979497544,14.948597949754403 116.9485979497544,14.948597949754403\" style=\"fill:#ECB172A0;stroke-width:0\"/>\n",
       "\n",
       "  <!-- Horizontal lines -->\n",
       "  <line x1=\"116\" y1=\"14\" x2=\"236\" y2=\"14\" style=\"stroke-width:2\" />\n",
       "  <line x1=\"116\" y1=\"74\" x2=\"236\" y2=\"74\" style=\"stroke-width:2\" />\n",
       "\n",
       "  <!-- Vertical lines -->\n",
       "  <line x1=\"116\" y1=\"14\" x2=\"116\" y2=\"74\" style=\"stroke-width:2\" />\n",
       "  <line x1=\"236\" y1=\"14\" x2=\"236\" y2=\"74\" style=\"stroke-width:2\" />\n",
       "\n",
       "  <!-- Colored Rectangle -->\n",
       "  <polygon points=\"116.9485979497544,14.948597949754403 236.9485979497544,14.948597949754403 236.9485979497544,74.9485979497544 116.9485979497544,74.9485979497544\" style=\"fill:#ECB172A0;stroke-width:0\"/>\n",
       "\n",
       "  <!-- Text -->\n",
       "  <text x=\"176.948598\" y=\"94.948598\" font-size=\"1.0rem\" font-weight=\"100\" text-anchor=\"middle\" >360</text>\n",
       "  <text x=\"256.948598\" y=\"44.948598\" font-size=\"1.0rem\" font-weight=\"100\" text-anchor=\"middle\" transform=\"rotate(-90,256.948598,44.948598)\">180</text>\n",
       "  <text x=\"99.474299\" y=\"87.474299\" font-size=\"1.0rem\" font-weight=\"100\" text-anchor=\"middle\" transform=\"rotate(45,99.474299,87.474299)\">1</text>\n",
       "</svg>\n",
       "        </td>\n",
       "    </tr>\n",
       "</table>"
      ],
      "text/plain": [
       "dask.array<setitem, shape=(12, 1, 180, 360), dtype=float64, chunksize=(12, 1, 180, 360), chunktype=numpy.ndarray>"
      ]
     },
     "execution_count": 11,
     "metadata": {},
     "output_type": "execute_result"
    }
   ],
   "source": [
    "GN_clim"
   ]
  },
  {
   "cell_type": "code",
   "execution_count": 12,
   "id": "a19a0e39-4f9a-49e3-b5d0-bccfe6a00b02",
   "metadata": {},
   "outputs": [
    {
     "data": {
      "text/plain": [
       "[<matplotlib.lines.Line2D at 0x15343cc8b3a0>]"
      ]
     },
     "execution_count": 12,
     "metadata": {},
     "output_type": "execute_result"
    },
    {
     "data": {
      "image/png": "[encoded data removed]",
      "text/plain": [
       "<Figure size 640x480 with 1 Axes>"
      ]
     },
     "metadata": {},
     "output_type": "display_data"
    }
   ],
   "source": [
    "plt.plot(GN_clim[:,0,120,100])"
   ]
  },
  {
   "cell_type": "code",
   "execution_count": 13,
   "id": "7235f5f8-2cb8-479d-9569-e56324a0f7ed",
   "metadata": {},
   "outputs": [
    {
     "name": "stdout",
     "output_type": "stream",
     "text": [
      "2024-08-13 22:55:06.850851\n",
      "2024-08-13 22:55:07.670201\n"
     ]
    }
   ],
   "source": [
    "print(dt.datetime.now())\n",
    "GNanom=GN.data-da.tile(GN_clim,(int(nt/12),nm,1,1))\n",
    "print(dt.datetime.now())"
   ]
  },
  {
   "cell_type": "code",
   "execution_count": 14,
   "id": "1f82b194-25a2-432f-9c9b-d8a55b3ad1bd",
   "metadata": {},
   "outputs": [
    {
     "name": "stdout",
     "output_type": "stream",
     "text": [
      "2024-08-13 22:55:08.490141\n"
     ]
    }
   ],
   "source": [
    "C5anom=GN-da.tile(C5_clim,(int(nt/12),nm,1,1))\n",
    "print(dt.datetime.now())"
   ]
  },
  {
   "cell_type": "code",
   "execution_count": 15,
   "id": "74a8a0f1-73c7-4d2c-ae7f-123bc1a059af",
   "metadata": {},
   "outputs": [
    {
     "data": {
      "text/html": [
       "<table>\n",
       "    <tr>\n",
       "        <td>\n",
       "            <table style=\"border-collapse: collapse;\">\n",
       "                <thead>\n",
       "                    <tr>\n",
       "                        <td> </td>\n",
       "                        <th> Array </th>\n",
       "                        <th> Chunk </th>\n",
       "                    </tr>\n",
       "                </thead>\n",
       "                <tbody>\n",
       "                    \n",
       "                    <tr>\n",
       "                        <th> Bytes </th>\n",
       "                        <td> 1.04 GiB </td>\n",
       "                        <td> 5.93 MiB </td>\n",
       "                    </tr>\n",
       "                    \n",
       "                    <tr>\n",
       "                        <th> Shape </th>\n",
       "                        <td> (108, 20, 180, 360) </td>\n",
       "                        <td> (12, 1, 180, 360) </td>\n",
       "                    </tr>\n",
       "                    <tr>\n",
       "                        <th> Dask graph </th>\n",
       "                        <td colspan=\"2\"> 180 chunks in 18 graph layers </td>\n",
       "                    </tr>\n",
       "                    <tr>\n",
       "                        <th> Data type </th>\n",
       "                        <td colspan=\"2\"> float64 numpy.ndarray </td>\n",
       "                    </tr>\n",
       "                </tbody>\n",
       "            </table>\n",
       "        </td>\n",
       "        <td>\n",
       "        <svg width=\"416\" height=\"130\" style=\"stroke:rgb(0,0,0);stroke-width:1\" >\n",
       "\n",
       "  <!-- Horizontal lines -->\n",
       "  <line x1=\"0\" y1=\"0\" x2=\"43\" y2=\"0\" style=\"stroke-width:2\" />\n",
       "  <line x1=\"0\" y1=\"25\" x2=\"43\" y2=\"25\" style=\"stroke-width:2\" />\n",
       "\n",
       "  <!-- Vertical lines -->\n",
       "  <line x1=\"0\" y1=\"0\" x2=\"0\" y2=\"25\" style=\"stroke-width:2\" />\n",
       "  <line x1=\"4\" y1=\"0\" x2=\"4\" y2=\"25\" />\n",
       "  <line x1=\"9\" y1=\"0\" x2=\"9\" y2=\"25\" />\n",
       "  <line x1=\"14\" y1=\"0\" x2=\"14\" y2=\"25\" />\n",
       "  <line x1=\"19\" y1=\"0\" x2=\"19\" y2=\"25\" />\n",
       "  <line x1=\"24\" y1=\"0\" x2=\"24\" y2=\"25\" />\n",
       "  <line x1=\"29\" y1=\"0\" x2=\"29\" y2=\"25\" />\n",
       "  <line x1=\"33\" y1=\"0\" x2=\"33\" y2=\"25\" />\n",
       "  <line x1=\"38\" y1=\"0\" x2=\"38\" y2=\"25\" />\n",
       "  <line x1=\"43\" y1=\"0\" x2=\"43\" y2=\"25\" style=\"stroke-width:2\" />\n",
       "\n",
       "  <!-- Colored Rectangle -->\n",
       "  <polygon points=\"0.0,0.0 43.54481495527667,0.0 43.54481495527667,25.412616514582485 0.0,25.412616514582485\" style=\"fill:#ECB172A0;stroke-width:0\"/>\n",
       "\n",
       "  <!-- Text -->\n",
       "  <text x=\"21.772407\" y=\"45.412617\" font-size=\"1.0rem\" font-weight=\"100\" text-anchor=\"middle\" >108</text>\n",
       "  <text x=\"63.544815\" y=\"12.706308\" font-size=\"1.0rem\" font-weight=\"100\" text-anchor=\"middle\" transform=\"rotate(0,63.544815,12.706308)\">1</text>\n",
       "\n",
       "\n",
       "  <!-- Horizontal lines -->\n",
       "  <line x1=\"113\" y1=\"0\" x2=\"133\" y2=\"20\" style=\"stroke-width:2\" />\n",
       "  <line x1=\"113\" y1=\"60\" x2=\"133\" y2=\"80\" style=\"stroke-width:2\" />\n",
       "\n",
       "  <!-- Vertical lines -->\n",
       "  <line x1=\"113\" y1=\"0\" x2=\"113\" y2=\"60\" style=\"stroke-width:2\" />\n",
       "  <line x1=\"114\" y1=\"1\" x2=\"114\" y2=\"61\" />\n",
       "  <line x1=\"115\" y1=\"2\" x2=\"115\" y2=\"62\" />\n",
       "  <line x1=\"116\" y1=\"3\" x2=\"116\" y2=\"63\" />\n",
       "  <line x1=\"117\" y1=\"4\" x2=\"117\" y2=\"64\" />\n",
       "  <line x1=\"118\" y1=\"5\" x2=\"118\" y2=\"65\" />\n",
       "  <line x1=\"119\" y1=\"6\" x2=\"119\" y2=\"66\" />\n",
       "  <line x1=\"120\" y1=\"7\" x2=\"120\" y2=\"67\" />\n",
       "  <line x1=\"121\" y1=\"8\" x2=\"121\" y2=\"68\" />\n",
       "  <line x1=\"122\" y1=\"9\" x2=\"122\" y2=\"69\" />\n",
       "  <line x1=\"123\" y1=\"10\" x2=\"123\" y2=\"70\" />\n",
       "  <line x1=\"124\" y1=\"11\" x2=\"124\" y2=\"71\" />\n",
       "  <line x1=\"125\" y1=\"12\" x2=\"125\" y2=\"72\" />\n",
       "  <line x1=\"126\" y1=\"13\" x2=\"126\" y2=\"73\" />\n",
       "  <line x1=\"127\" y1=\"14\" x2=\"127\" y2=\"74\" />\n",
       "  <line x1=\"128\" y1=\"15\" x2=\"128\" y2=\"75\" />\n",
       "  <line x1=\"129\" y1=\"16\" x2=\"129\" y2=\"76\" />\n",
       "  <line x1=\"130\" y1=\"17\" x2=\"130\" y2=\"77\" />\n",
       "  <line x1=\"131\" y1=\"18\" x2=\"131\" y2=\"78\" />\n",
       "  <line x1=\"132\" y1=\"19\" x2=\"132\" y2=\"79\" />\n",
       "  <line x1=\"133\" y1=\"20\" x2=\"133\" y2=\"80\" style=\"stroke-width:2\" />\n",
       "\n",
       "  <!-- Colored Rectangle -->\n",
       "  <polygon points=\"113.0,0.0 133.67342854737376,20.673428547373774 133.67342854737376,80.67342854737377 113.0,60.0\" style=\"fill:#ECB172A0;stroke-width:0\"/>\n",
       "\n",
       "  <!-- Horizontal lines -->\n",
       "  <line x1=\"113\" y1=\"0\" x2=\"233\" y2=\"0\" style=\"stroke-width:2\" />\n",
       "  <line x1=\"114\" y1=\"1\" x2=\"234\" y2=\"1\" />\n",
       "  <line x1=\"115\" y1=\"2\" x2=\"235\" y2=\"2\" />\n",
       "  <line x1=\"116\" y1=\"3\" x2=\"236\" y2=\"3\" />\n",
       "  <line x1=\"117\" y1=\"4\" x2=\"237\" y2=\"4\" />\n",
       "  <line x1=\"118\" y1=\"5\" x2=\"238\" y2=\"5\" />\n",
       "  <line x1=\"119\" y1=\"6\" x2=\"239\" y2=\"6\" />\n",
       "  <line x1=\"120\" y1=\"7\" x2=\"240\" y2=\"7\" />\n",
       "  <line x1=\"121\" y1=\"8\" x2=\"241\" y2=\"8\" />\n",
       "  <line x1=\"122\" y1=\"9\" x2=\"242\" y2=\"9\" />\n",
       "  <line x1=\"123\" y1=\"10\" x2=\"243\" y2=\"10\" />\n",
       "  <line x1=\"124\" y1=\"11\" x2=\"244\" y2=\"11\" />\n",
       "  <line x1=\"125\" y1=\"12\" x2=\"245\" y2=\"12\" />\n",
       "  <line x1=\"126\" y1=\"13\" x2=\"246\" y2=\"13\" />\n",
       "  <line x1=\"127\" y1=\"14\" x2=\"247\" y2=\"14\" />\n",
       "  <line x1=\"128\" y1=\"15\" x2=\"248\" y2=\"15\" />\n",
       "  <line x1=\"129\" y1=\"16\" x2=\"249\" y2=\"16\" />\n",
       "  <line x1=\"130\" y1=\"17\" x2=\"250\" y2=\"17\" />\n",
       "  <line x1=\"131\" y1=\"18\" x2=\"251\" y2=\"18\" />\n",
       "  <line x1=\"132\" y1=\"19\" x2=\"252\" y2=\"19\" />\n",
       "  <line x1=\"133\" y1=\"20\" x2=\"253\" y2=\"20\" style=\"stroke-width:2\" />\n",
       "\n",
       "  <!-- Vertical lines -->\n",
       "  <line x1=\"113\" y1=\"0\" x2=\"133\" y2=\"20\" style=\"stroke-width:2\" />\n",
       "  <line x1=\"233\" y1=\"0\" x2=\"253\" y2=\"20\" style=\"stroke-width:2\" />\n",
       "\n",
       "  <!-- Colored Rectangle -->\n",
       "  <polygon points=\"113.0,0.0 233.0,0.0 253.67342854737376,20.673428547373774 133.67342854737376,20.673428547373774\" style=\"fill:#ECB172A0;stroke-width:0\"/>\n",
       "\n",
       "  <!-- Horizontal lines -->\n",
       "  <line x1=\"133\" y1=\"20\" x2=\"253\" y2=\"20\" style=\"stroke-width:2\" />\n",
       "  <line x1=\"133\" y1=\"80\" x2=\"253\" y2=\"80\" style=\"stroke-width:2\" />\n",
       "\n",
       "  <!-- Vertical lines -->\n",
       "  <line x1=\"133\" y1=\"20\" x2=\"133\" y2=\"80\" style=\"stroke-width:2\" />\n",
       "  <line x1=\"253\" y1=\"20\" x2=\"253\" y2=\"80\" style=\"stroke-width:2\" />\n",
       "\n",
       "  <!-- Colored Rectangle -->\n",
       "  <polygon points=\"133.67342854737376,20.673428547373774 253.67342854737376,20.673428547373774 253.67342854737376,80.67342854737377 133.67342854737376,80.67342854737377\" style=\"fill:#ECB172A0;stroke-width:0\"/>\n",
       "\n",
       "  <!-- Text -->\n",
       "  <text x=\"193.673429\" y=\"100.673429\" font-size=\"1.0rem\" font-weight=\"100\" text-anchor=\"middle\" >360</text>\n",
       "  <text x=\"273.673429\" y=\"50.673429\" font-size=\"1.0rem\" font-weight=\"100\" text-anchor=\"middle\" transform=\"rotate(-90,273.673429,50.673429)\">180</text>\n",
       "  <text x=\"113.336714\" y=\"90.336714\" font-size=\"1.0rem\" font-weight=\"100\" text-anchor=\"middle\" transform=\"rotate(45,113.336714,90.336714)\">20</text>\n",
       "</svg>\n",
       "        </td>\n",
       "    </tr>\n",
       "</table>"
      ],
      "text/plain": [
       "dask.array<subtract, shape=(108, 20, 180, 360), dtype=float64, chunksize=(12, 1, 180, 360), chunktype=numpy.ndarray>"
      ]
     },
     "execution_count": 15,
     "metadata": {},
     "output_type": "execute_result"
    }
   ],
   "source": [
    "GNanom"
   ]
  },
  {
   "cell_type": "code",
   "execution_count": 16,
   "id": "833585fb-f37e-4a8b-8924-901cb54f6c1e",
   "metadata": {},
   "outputs": [
    {
     "data": {
      "text/plain": [
       "(108, 20, 180, 360)"
      ]
     },
     "execution_count": 16,
     "metadata": {},
     "output_type": "execute_result"
    }
   ],
   "source": [
    "GNanom.shape"
   ]
  },
  {
   "cell_type": "code",
   "execution_count": 17,
   "id": "59550a14-cdcc-462e-8140-1a0ba2812935",
   "metadata": {},
   "outputs": [
    {
     "data": {
      "text/html": [
       "<table>\n",
       "    <tr>\n",
       "        <td>\n",
       "            <table style=\"border-collapse: collapse;\">\n",
       "                <thead>\n",
       "                    <tr>\n",
       "                        <td> </td>\n",
       "                        <th> Array </th>\n",
       "                        <th> Chunk </th>\n",
       "                    </tr>\n",
       "                </thead>\n",
       "                <tbody>\n",
       "                    \n",
       "                    <tr>\n",
       "                        <th> Bytes </th>\n",
       "                        <td> 864 B </td>\n",
       "                        <td> 96 B </td>\n",
       "                    </tr>\n",
       "                    \n",
       "                    <tr>\n",
       "                        <th> Shape </th>\n",
       "                        <td> (108,) </td>\n",
       "                        <td> (12,) </td>\n",
       "                    </tr>\n",
       "                    <tr>\n",
       "                        <th> Dask graph </th>\n",
       "                        <td colspan=\"2\"> 9 chunks in 19 graph layers </td>\n",
       "                    </tr>\n",
       "                    <tr>\n",
       "                        <th> Data type </th>\n",
       "                        <td colspan=\"2\"> float64 numpy.ndarray </td>\n",
       "                    </tr>\n",
       "                </tbody>\n",
       "            </table>\n",
       "        </td>\n",
       "        <td>\n",
       "        <svg width=\"170\" height=\"75\" style=\"stroke:rgb(0,0,0);stroke-width:1\" >\n",
       "\n",
       "  <!-- Horizontal lines -->\n",
       "  <line x1=\"0\" y1=\"0\" x2=\"120\" y2=\"0\" style=\"stroke-width:2\" />\n",
       "  <line x1=\"0\" y1=\"25\" x2=\"120\" y2=\"25\" style=\"stroke-width:2\" />\n",
       "\n",
       "  <!-- Vertical lines -->\n",
       "  <line x1=\"0\" y1=\"0\" x2=\"0\" y2=\"25\" style=\"stroke-width:2\" />\n",
       "  <line x1=\"13\" y1=\"0\" x2=\"13\" y2=\"25\" />\n",
       "  <line x1=\"26\" y1=\"0\" x2=\"26\" y2=\"25\" />\n",
       "  <line x1=\"40\" y1=\"0\" x2=\"40\" y2=\"25\" />\n",
       "  <line x1=\"53\" y1=\"0\" x2=\"53\" y2=\"25\" />\n",
       "  <line x1=\"66\" y1=\"0\" x2=\"66\" y2=\"25\" />\n",
       "  <line x1=\"80\" y1=\"0\" x2=\"80\" y2=\"25\" />\n",
       "  <line x1=\"93\" y1=\"0\" x2=\"93\" y2=\"25\" />\n",
       "  <line x1=\"106\" y1=\"0\" x2=\"106\" y2=\"25\" />\n",
       "  <line x1=\"120\" y1=\"0\" x2=\"120\" y2=\"25\" style=\"stroke-width:2\" />\n",
       "\n",
       "  <!-- Colored Rectangle -->\n",
       "  <polygon points=\"0.0,0.0 120.0,0.0 120.0,25.412616514582485 0.0,25.412616514582485\" style=\"fill:#ECB172A0;stroke-width:0\"/>\n",
       "\n",
       "  <!-- Text -->\n",
       "  <text x=\"60.000000\" y=\"45.412617\" font-size=\"1.0rem\" font-weight=\"100\" text-anchor=\"middle\" >108</text>\n",
       "  <text x=\"140.000000\" y=\"12.706308\" font-size=\"1.0rem\" font-weight=\"100\" text-anchor=\"middle\" transform=\"rotate(0,140.000000,12.706308)\">1</text>\n",
       "</svg>\n",
       "        </td>\n",
       "    </tr>\n",
       "</table>"
      ],
      "text/plain": [
       "dask.array<getitem, shape=(108,), dtype=float64, chunksize=(12,), chunktype=numpy.ndarray>"
      ]
     },
     "execution_count": 17,
     "metadata": {},
     "output_type": "execute_result"
    }
   ],
   "source": [
    "vec=GNanom[:,5,100,100]\n",
    "vec"
   ]
  },
  {
   "cell_type": "code",
   "execution_count": 18,
   "id": "d1d0b783-5cdc-4c27-98b1-1a1f9cf9bdf6",
   "metadata": {},
   "outputs": [
    {
     "name": "stderr",
     "output_type": "stream",
     "text": [
      "/home/ords/crd/ccrn/reo000/miniconda3/envs/py39dc2/lib/python3.9/site-packages/dask/array/core.py:1705: FutureWarning: The `numpy.polyfit` function is not implemented by Dask array. You may want to use the da.map_blocks function or something similar to silence this warning. Your code may stop working in a future release.\n",
      "  warnings.warn(\n"
     ]
    },
    {
     "data": {
      "text/plain": [
       "[<matplotlib.lines.Line2D at 0x15343b13d4f0>]"
      ]
     },
     "execution_count": 18,
     "metadata": {},
     "output_type": "execute_result"
    },
    {
     "data": {
      "image/png": "[encoded data removed]",
      "text/plain": [
       "<Figure size 640x480 with 1 Axes>"
      ]
     },
     "metadata": {},
     "output_type": "display_data"
    }
   ],
   "source": [
    "N=len(vec)\n",
    "X=np.concatenate([np.ones((N,1)), np.expand_dims(np.arange(0,N),1)],1)\n",
    "p=np.polyfit(np.arange(0,N),vec,1)\n",
    "vec2=vec-p[0]*np.arange(0,N)\n",
    "plt.plot(vec,'b.')\n",
    "plt.plot(vec2,'r.')"
   ]
  },
  {
   "cell_type": "code",
   "execution_count": 73,
   "id": "774c5c9a-9ebf-4ce8-9f37-0da9665b2ee7",
   "metadata": {},
   "outputs": [],
   "source": [
    "def test(vec):\n",
    "    return np.arange(0,len(vec))#np.mean(vec)*np.ones((len(vec),))"
   ]
  },
  {
   "cell_type": "code",
   "execution_count": 43,
   "id": "d35e68a9-f4dd-4ed2-8674-57f7f353153b",
   "metadata": {},
   "outputs": [
    {
     "data": {
      "text/html": [
       "<table>\n",
       "    <tr>\n",
       "        <td>\n",
       "            <table style=\"border-collapse: collapse;\">\n",
       "                <thead>\n",
       "                    <tr>\n",
       "                        <td> </td>\n",
       "                        <th> Array </th>\n",
       "                        <th> Chunk </th>\n",
       "                    </tr>\n",
       "                </thead>\n",
       "                <tbody>\n",
       "                    \n",
       "                    <tr>\n",
       "                        <th> Bytes </th>\n",
       "                        <td> 1.04 GiB </td>\n",
       "                        <td> 5.93 MiB </td>\n",
       "                    </tr>\n",
       "                    \n",
       "                    <tr>\n",
       "                        <th> Shape </th>\n",
       "                        <td> (108, 20, 180, 360) </td>\n",
       "                        <td> (12, 1, 180, 360) </td>\n",
       "                    </tr>\n",
       "                    <tr>\n",
       "                        <th> Dask graph </th>\n",
       "                        <td colspan=\"2\"> 180 chunks in 18 graph layers </td>\n",
       "                    </tr>\n",
       "                    <tr>\n",
       "                        <th> Data type </th>\n",
       "                        <td colspan=\"2\"> float64 numpy.ndarray </td>\n",
       "                    </tr>\n",
       "                </tbody>\n",
       "            </table>\n",
       "        </td>\n",
       "        <td>\n",
       "        <svg width=\"416\" height=\"130\" style=\"stroke:rgb(0,0,0);stroke-width:1\" >\n",
       "\n",
       "  <!-- Horizontal lines -->\n",
       "  <line x1=\"0\" y1=\"0\" x2=\"43\" y2=\"0\" style=\"stroke-width:2\" />\n",
       "  <line x1=\"0\" y1=\"25\" x2=\"43\" y2=\"25\" style=\"stroke-width:2\" />\n",
       "\n",
       "  <!-- Vertical lines -->\n",
       "  <line x1=\"0\" y1=\"0\" x2=\"0\" y2=\"25\" style=\"stroke-width:2\" />\n",
       "  <line x1=\"4\" y1=\"0\" x2=\"4\" y2=\"25\" />\n",
       "  <line x1=\"9\" y1=\"0\" x2=\"9\" y2=\"25\" />\n",
       "  <line x1=\"14\" y1=\"0\" x2=\"14\" y2=\"25\" />\n",
       "  <line x1=\"19\" y1=\"0\" x2=\"19\" y2=\"25\" />\n",
       "  <line x1=\"24\" y1=\"0\" x2=\"24\" y2=\"25\" />\n",
       "  <line x1=\"29\" y1=\"0\" x2=\"29\" y2=\"25\" />\n",
       "  <line x1=\"33\" y1=\"0\" x2=\"33\" y2=\"25\" />\n",
       "  <line x1=\"38\" y1=\"0\" x2=\"38\" y2=\"25\" />\n",
       "  <line x1=\"43\" y1=\"0\" x2=\"43\" y2=\"25\" style=\"stroke-width:2\" />\n",
       "\n",
       "  <!-- Colored Rectangle -->\n",
       "  <polygon points=\"0.0,0.0 43.54481495527667,0.0 43.54481495527667,25.412616514582485 0.0,25.412616514582485\" style=\"fill:#ECB172A0;stroke-width:0\"/>\n",
       "\n",
       "  <!-- Text -->\n",
       "  <text x=\"21.772407\" y=\"45.412617\" font-size=\"1.0rem\" font-weight=\"100\" text-anchor=\"middle\" >108</text>\n",
       "  <text x=\"63.544815\" y=\"12.706308\" font-size=\"1.0rem\" font-weight=\"100\" text-anchor=\"middle\" transform=\"rotate(0,63.544815,12.706308)\">1</text>\n",
       "\n",
       "\n",
       "  <!-- Horizontal lines -->\n",
       "  <line x1=\"113\" y1=\"0\" x2=\"133\" y2=\"20\" style=\"stroke-width:2\" />\n",
       "  <line x1=\"113\" y1=\"60\" x2=\"133\" y2=\"80\" style=\"stroke-width:2\" />\n",
       "\n",
       "  <!-- Vertical lines -->\n",
       "  <line x1=\"113\" y1=\"0\" x2=\"113\" y2=\"60\" style=\"stroke-width:2\" />\n",
       "  <line x1=\"114\" y1=\"1\" x2=\"114\" y2=\"61\" />\n",
       "  <line x1=\"115\" y1=\"2\" x2=\"115\" y2=\"62\" />\n",
       "  <line x1=\"116\" y1=\"3\" x2=\"116\" y2=\"63\" />\n",
       "  <line x1=\"117\" y1=\"4\" x2=\"117\" y2=\"64\" />\n",
       "  <line x1=\"118\" y1=\"5\" x2=\"118\" y2=\"65\" />\n",
       "  <line x1=\"119\" y1=\"6\" x2=\"119\" y2=\"66\" />\n",
       "  <line x1=\"120\" y1=\"7\" x2=\"120\" y2=\"67\" />\n",
       "  <line x1=\"121\" y1=\"8\" x2=\"121\" y2=\"68\" />\n",
       "  <line x1=\"122\" y1=\"9\" x2=\"122\" y2=\"69\" />\n",
       "  <line x1=\"123\" y1=\"10\" x2=\"123\" y2=\"70\" />\n",
       "  <line x1=\"124\" y1=\"11\" x2=\"124\" y2=\"71\" />\n",
       "  <line x1=\"125\" y1=\"12\" x2=\"125\" y2=\"72\" />\n",
       "  <line x1=\"126\" y1=\"13\" x2=\"126\" y2=\"73\" />\n",
       "  <line x1=\"127\" y1=\"14\" x2=\"127\" y2=\"74\" />\n",
       "  <line x1=\"128\" y1=\"15\" x2=\"128\" y2=\"75\" />\n",
       "  <line x1=\"129\" y1=\"16\" x2=\"129\" y2=\"76\" />\n",
       "  <line x1=\"130\" y1=\"17\" x2=\"130\" y2=\"77\" />\n",
       "  <line x1=\"131\" y1=\"18\" x2=\"131\" y2=\"78\" />\n",
       "  <line x1=\"132\" y1=\"19\" x2=\"132\" y2=\"79\" />\n",
       "  <line x1=\"133\" y1=\"20\" x2=\"133\" y2=\"80\" style=\"stroke-width:2\" />\n",
       "\n",
       "  <!-- Colored Rectangle -->\n",
       "  <polygon points=\"113.0,0.0 133.67342854737376,20.673428547373774 133.67342854737376,80.67342854737377 113.0,60.0\" style=\"fill:#ECB172A0;stroke-width:0\"/>\n",
       "\n",
       "  <!-- Horizontal lines -->\n",
       "  <line x1=\"113\" y1=\"0\" x2=\"233\" y2=\"0\" style=\"stroke-width:2\" />\n",
       "  <line x1=\"114\" y1=\"1\" x2=\"234\" y2=\"1\" />\n",
       "  <line x1=\"115\" y1=\"2\" x2=\"235\" y2=\"2\" />\n",
       "  <line x1=\"116\" y1=\"3\" x2=\"236\" y2=\"3\" />\n",
       "  <line x1=\"117\" y1=\"4\" x2=\"237\" y2=\"4\" />\n",
       "  <line x1=\"118\" y1=\"5\" x2=\"238\" y2=\"5\" />\n",
       "  <line x1=\"119\" y1=\"6\" x2=\"239\" y2=\"6\" />\n",
       "  <line x1=\"120\" y1=\"7\" x2=\"240\" y2=\"7\" />\n",
       "  <line x1=\"121\" y1=\"8\" x2=\"241\" y2=\"8\" />\n",
       "  <line x1=\"122\" y1=\"9\" x2=\"242\" y2=\"9\" />\n",
       "  <line x1=\"123\" y1=\"10\" x2=\"243\" y2=\"10\" />\n",
       "  <line x1=\"124\" y1=\"11\" x2=\"244\" y2=\"11\" />\n",
       "  <line x1=\"125\" y1=\"12\" x2=\"245\" y2=\"12\" />\n",
       "  <line x1=\"126\" y1=\"13\" x2=\"246\" y2=\"13\" />\n",
       "  <line x1=\"127\" y1=\"14\" x2=\"247\" y2=\"14\" />\n",
       "  <line x1=\"128\" y1=\"15\" x2=\"248\" y2=\"15\" />\n",
       "  <line x1=\"129\" y1=\"16\" x2=\"249\" y2=\"16\" />\n",
       "  <line x1=\"130\" y1=\"17\" x2=\"250\" y2=\"17\" />\n",
       "  <line x1=\"131\" y1=\"18\" x2=\"251\" y2=\"18\" />\n",
       "  <line x1=\"132\" y1=\"19\" x2=\"252\" y2=\"19\" />\n",
       "  <line x1=\"133\" y1=\"20\" x2=\"253\" y2=\"20\" style=\"stroke-width:2\" />\n",
       "\n",
       "  <!-- Vertical lines -->\n",
       "  <line x1=\"113\" y1=\"0\" x2=\"133\" y2=\"20\" style=\"stroke-width:2\" />\n",
       "  <line x1=\"233\" y1=\"0\" x2=\"253\" y2=\"20\" style=\"stroke-width:2\" />\n",
       "\n",
       "  <!-- Colored Rectangle -->\n",
       "  <polygon points=\"113.0,0.0 233.0,0.0 253.67342854737376,20.673428547373774 133.67342854737376,20.673428547373774\" style=\"fill:#ECB172A0;stroke-width:0\"/>\n",
       "\n",
       "  <!-- Horizontal lines -->\n",
       "  <line x1=\"133\" y1=\"20\" x2=\"253\" y2=\"20\" style=\"stroke-width:2\" />\n",
       "  <line x1=\"133\" y1=\"80\" x2=\"253\" y2=\"80\" style=\"stroke-width:2\" />\n",
       "\n",
       "  <!-- Vertical lines -->\n",
       "  <line x1=\"133\" y1=\"20\" x2=\"133\" y2=\"80\" style=\"stroke-width:2\" />\n",
       "  <line x1=\"253\" y1=\"20\" x2=\"253\" y2=\"80\" style=\"stroke-width:2\" />\n",
       "\n",
       "  <!-- Colored Rectangle -->\n",
       "  <polygon points=\"133.67342854737376,20.673428547373774 253.67342854737376,20.673428547373774 253.67342854737376,80.67342854737377 133.67342854737376,80.67342854737377\" style=\"fill:#ECB172A0;stroke-width:0\"/>\n",
       "\n",
       "  <!-- Text -->\n",
       "  <text x=\"193.673429\" y=\"100.673429\" font-size=\"1.0rem\" font-weight=\"100\" text-anchor=\"middle\" >360</text>\n",
       "  <text x=\"273.673429\" y=\"50.673429\" font-size=\"1.0rem\" font-weight=\"100\" text-anchor=\"middle\" transform=\"rotate(-90,273.673429,50.673429)\">180</text>\n",
       "  <text x=\"113.336714\" y=\"90.336714\" font-size=\"1.0rem\" font-weight=\"100\" text-anchor=\"middle\" transform=\"rotate(45,113.336714,90.336714)\">20</text>\n",
       "</svg>\n",
       "        </td>\n",
       "    </tr>\n",
       "</table>"
      ],
      "text/plain": [
       "dask.array<subtract, shape=(108, 20, 180, 360), dtype=float64, chunksize=(12, 1, 180, 360), chunktype=numpy.ndarray>"
      ]
     },
     "execution_count": 43,
     "metadata": {},
     "output_type": "execute_result"
    }
   ],
   "source": [
    "GNanom"
   ]
  },
  {
   "cell_type": "code",
   "execution_count": 44,
   "id": "2abfd183-2ea3-4d4e-8dae-cd35ee9241ad",
   "metadata": {},
   "outputs": [
    {
     "data": {
      "text/plain": [
       "0.0"
      ]
     },
     "execution_count": 44,
     "metadata": {},
     "output_type": "execute_result"
    }
   ],
   "source": [
    "temp=test(vec)#vec=GNanom[:,5,100,100]\n",
    "\n",
    "np.max(np.abs(np.unique(temp)-GNanom.mean(axis=0)[5,100,100])).compute()"
   ]
  },
  {
   "cell_type": "code",
   "execution_count": 74,
   "id": "24e73225-a7f3-4dd6-bf1d-ff8a747496ef",
   "metadata": {},
   "outputs": [],
   "source": [
    "#testout = xr.apply_ufunc(test, GNanom, input_core_dims=['S'], output_core_dims=['S'],dask = 'allowed', vectorize = True)\n",
    "testout=da.apply_along_axis(test,0,GNanom,shape=(GNanom.shape[0],))"
   ]
  },
  {
   "cell_type": "code",
   "execution_count": 76,
   "id": "3877b5ce-754a-46f0-ab3b-6df85d028580",
   "metadata": {},
   "outputs": [
    {
     "data": {
      "text/plain": [
       "2"
      ]
     },
     "execution_count": 76,
     "metadata": {},
     "output_type": "execute_result"
    }
   ],
   "source": [
    "testout[2,5,100,100].compute()"
   ]
  },
  {
   "cell_type": "code",
   "execution_count": 66,
   "id": "b386753b-601f-49d5-ab14-9f92fe310890",
   "metadata": {},
   "outputs": [
    {
     "data": {
      "text/plain": [
       "0.0"
      ]
     },
     "execution_count": 66,
     "metadata": {},
     "output_type": "execute_result"
    }
   ],
   "source": [
    "(testout[1,5,100,100]-temp[0]).compute()"
   ]
  },
  {
   "cell_type": "code",
   "execution_count": 67,
   "id": "821a57a6-af45-42f3-adfa-4e86137ca42a",
   "metadata": {},
   "outputs": [
    {
     "data": {
      "text/plain": [
       "0.0"
      ]
     },
     "execution_count": 67,
     "metadata": {},
     "output_type": "execute_result"
    }
   ],
   "source": [
    "np.max(np.abs(GNanom.mean(axis=0)-testout[-1,...])).compute()"
   ]
  },
  {
   "cell_type": "code",
   "execution_count": 68,
   "id": "7f168109-1f64-474c-ad2f-56fbba6e14df",
   "metadata": {},
   "outputs": [
    {
     "data": {
      "text/plain": [
       "0.0"
      ]
     },
     "execution_count": 68,
     "metadata": {},
     "output_type": "execute_result"
    }
   ],
   "source": [
    "np.max(np.abs(GNanom.mean(axis=0)-testout[5,...])).compute()"
   ]
  },
  {
   "cell_type": "code",
   "execution_count": 84,
   "id": "db5bef54-f635-46ca-99c2-1f4efb05fd28",
   "metadata": {},
   "outputs": [],
   "source": [
    "def _detrend_1d(vec):\n",
    "    ii=~np.isnan(vec)\n",
    "    x=np.arange(0,len(vec))\n",
    "    if np.sum(ii)>0:\n",
    "        p=np.polyfit(x[ii].flatten(),vec[ii].flatten(),1)\n",
    "        return vec-p[0]*x\n",
    "    else:\n",
    "        return vec # in this case should be all NaNs"
   ]
  },
  {
   "cell_type": "code",
   "execution_count": 85,
   "id": "36cedd31-ac32-4cb4-96d4-49135c632d1d",
   "metadata": {},
   "outputs": [
    {
     "name": "stdout",
     "output_type": "stream",
     "text": [
      "2024-08-13 23:35:00.148703\n"
     ]
    }
   ],
   "source": [
    "GNanom_detr=da.apply_along_axis(_detrend_1d,0,GNanom,shape=(GNanom.shape[0],),dtype=np.float64)\n",
    "print(dt.datetime.now())"
   ]
  },
  {
   "cell_type": "code",
   "execution_count": 86,
   "id": "8360d25a-c0e6-4408-9ea6-784d4751a342",
   "metadata": {},
   "outputs": [
    {
     "name": "stdout",
     "output_type": "stream",
     "text": [
      "2024-08-13 23:35:00.346730\n"
     ]
    }
   ],
   "source": [
    "C5anom_detr=da.apply_along_axis(_detrend_1d,0,C5anom,shape=(GNanom.shape[0],),dtype=np.float64)\n",
    "print(dt.datetime.now())"
   ]
  },
  {
   "cell_type": "code",
   "execution_count": null,
   "id": "0dc4d5fa-6f1f-4a14-804a-99ecd856e186",
   "metadata": {},
   "outputs": [],
   "source": [
    "GN_clim={'raw':da.zeros((12,1,ny,nx)),'detr':da.zeros((12,1,ny,nx))}\n",
    "C5_clim=da.zeros((12,1,ny,nx))\n",
    "GN_clim_detr=da.zeros((12,1,ny,nx))\n",
    "C5_clim_detr=da.zeros((12,1,ny,nx))"
   ]
  },
  {
   "cell_type": "code",
   "execution_count": null,
   "id": "7bcfc89c-19c4-46f7-9a78-be4fb6067402",
   "metadata": {},
   "outputs": [],
   "source": []
  },
  {
   "cell_type": "code",
   "execution_count": null,
   "id": "44832ddd-3350-41f1-a7c5-a52ca28cf25c",
   "metadata": {},
   "outputs": [],
   "source": []
  },
  {
   "cell_type": "code",
   "execution_count": null,
   "id": "674c0b9d-bfec-4aea-bf6c-8718986eec18",
   "metadata": {},
   "outputs": [],
   "source": []
  },
  {
   "cell_type": "code",
   "execution_count": null,
   "id": "4dd8d6bf-a73d-46a0-884d-22864b531b50",
   "metadata": {},
   "outputs": [],
   "source": []
  },
  {
   "cell_type": "code",
   "execution_count": null,
   "id": "b015d479-f267-458b-807d-47a5a9712599",
   "metadata": {},
   "outputs": [],
   "source": []
  }
 ],
 "metadata": {
  "kernelspec": {
   "display_name": "Python (py39dc2)",
   "language": "python",
   "name": "py39dc2"
  },
  "language_info": {
   "codemirror_mode": {
    "name": "ipython",
    "version": 3
   },
   "file_extension": ".py",
   "mimetype": "text/x-python",
   "name": "python",
   "nbconvert_exporter": "python",
   "pygments_lexer": "ipython3",
   "version": "3.9.19"
  }
 },
 "nbformat": 4,
 "nbformat_minor": 5
}
