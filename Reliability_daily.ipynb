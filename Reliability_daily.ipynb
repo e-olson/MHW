{
 "cells": [
  {
   "cell_type": "code",
   "execution_count": 1,
   "id": "7c0272c4-7b66-410f-adfc-d25efe6a34fa",
   "metadata": {},
   "outputs": [],
   "source": [
    "from MHW_daily_calcs import *\n",
    "import matplotlib.pyplot as plt\n",
    "import cmocean\n",
    "import itertools\n",
    "import matplotlib as mpl\n",
    "font = {\n",
    "        'size'   : 12}\n",
    "mpl.rc('font', **font)"
   ]
  },
  {
   "cell_type": "code",
   "execution_count": 13,
   "id": "7d2b9281-d5cd-4e9b-bdae-8e733f694413",
   "metadata": {},
   "outputs": [],
   "source": [
    "climyrs=[1993,2023]\n",
    "qtile=0.90\n",
    "detr=True\n",
    "smoothClim=True\n",
    "smoothTrend=True\n",
    "meth=method\n",
    "win=halfwin\n",
    "qtvar='qt1'\n",
    "delt=15\n",
    "region='global'\n",
    "leadlist=[0, 1, 3, 6, 10, 15, 20, 30]\n",
    "ips=np.arange(0,21)"
   ]
  },
  {
   "cell_type": "code",
   "execution_count": 12,
   "id": "7bf49391-6e7a-4d15-a286-029f9a9deb38",
   "metadata": {},
   "outputs": [],
   "source": [
    "rr={}\n",
    "for ind in range(0,len(leadlist)):\n",
    "    rr[leadlist[ind]]=np.load(fnameReli(leadlist[ind],climyrs, smoothClim, meth, win, detr, qtile, delt,qtvar,region))"
   ]
  },
  {
   "cell_type": "code",
   "execution_count": null,
   "id": "81987472-fcd1-4cb8-90d4-a801b3d798c3",
   "metadata": {},
   "outputs": [],
   "source": [
    "fig,ax=plt.subplots(1,1,figsize=(4,4))\n",
    "axb=ax.twinx()\n",
    "for il in (1,3,6,10):\n",
    "    ax.plot(ips/20,rr[il]]['ocounts']/rr[il]]['mcounts'],'*',color=cols[il],label=f\"{il} Days Lead\")\n",
    "    ax.set_aspect(1)\n",
    "    ax.set_xlim(0,1)\n",
    "    ax.set_ylim(0,1.008)\n",
    "    ax.set_xticks([0,.2,.4,.6,.8,1])\n",
    "    ax.set_yticks([.2,.4,.6,.8,1.])\n",
    "    axb.step(ips/20,rr[il]]['mcounts'],cols[il],where='mid')\n",
    "    #axb.set_yscale('log')\n",
    "ax.legend(fontsize=10)\n",
    "ax.set_xlabel('MHW Probability, Predicted')\n",
    "ax.set_ylabel('MHW Probability, Observed (*)')\n",
    "axb.set_ylabel('Count Per Prediction Probability (-)')\n",
    "\n",
    "fig.savefig('Reldaily.png',dpi=600,bbox_inches='tight')"
   ]
  },
  {
   "cell_type": "code",
   "execution_count": null,
   "id": "3544a076-edbd-4b8e-88ce-dfdd65ba56f8",
   "metadata": {},
   "outputs": [],
   "source": []
  }
 ],
 "metadata": {
  "kernelspec": {
   "display_name": "Python (mpy12MHW)",
   "language": "python",
   "name": "mpy12mhw"
  },
  "language_info": {
   "codemirror_mode": {
    "name": "ipython",
    "version": 3
   },
   "file_extension": ".py",
   "mimetype": "text/x-python",
   "name": "python",
   "nbconvert_exporter": "python",
   "pygments_lexer": "ipython3",
   "version": "3.12.8"
  }
 },
 "nbformat": 4,
 "nbformat_minor": 5
}
