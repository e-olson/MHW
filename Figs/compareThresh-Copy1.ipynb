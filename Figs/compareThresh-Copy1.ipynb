{
 "cells": [
  {
   "cell_type": "code",
   "execution_count": 1,
   "id": "925fb4c9-9a6c-4f49-ae9c-7d2569f33c6a",
   "metadata": {},
   "outputs": [],
   "source": [
    "import numpy as np\n",
    "import matplotlib.pyplot as plt\n",
    "import xarray as xr\n",
    "import os\n",
    "import sys\n",
    "import subprocess\n",
    "import datetime as dt\n",
    "import itertools\n",
    "from dask.distributed import Client, LocalCluster, wait\n",
    "import dask.array as da\n",
    "import cmocean\n",
    "from MHW_daily_calcs import *"
   ]
  },
  {
   "cell_type": "markdown",
   "id": "8a546f4c-d81e-4425-893c-2a0092caa475",
   "metadata": {},
   "source": [
    "SEDI was higher, particularly for tropical Pacific, when no smoothing was applied. Try to identify cause. First, compare detrended anomaly time series."
   ]
  },
  {
   "cell_type": "code",
   "execution_count": 2,
   "id": "f9e04480-cad5-4297-a9ff-95d501f84a25",
   "metadata": {},
   "outputs": [],
   "source": [
    "lmax=50 # start by looking at 1st 50 days of each run"
   ]
  }
 ],
 "metadata": {
  "kernelspec": {
   "display_name": "Python (py12MHW)",
   "language": "python",
   "name": "py12mhw"
  },
  "language_info": {
   "codemirror_mode": {
    "name": "ipython",
    "version": 3
   },
   "file_extension": ".py",
   "mimetype": "text/x-python",
   "name": "python",
   "nbconvert_exporter": "python",
   "pygments_lexer": "ipython3",
   "version": "3.12.5"
  }
 },
 "nbformat": 4,
 "nbformat_minor": 5
}
