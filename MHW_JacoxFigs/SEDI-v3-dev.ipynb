{
 "cells": [
  {
   "cell_type": "code",
   "execution_count": null,
   "id": "5f8a666b-4ff8-4ec6-8d3f-00722cbce911",
   "metadata": {},
   "outputs": [],
   "source": [
    "import numpy as np\n",
    "import xarray as xr\n",
    "import matplotlib.pyplot as plt\n",
    "import cmocean\n",
    "import warnings\n",
    "import os\n",
    "warnings.filterwarnings(\"ignore\", category=RuntimeWarning) # ignore runtime warnings; here they arise from attempted operations on all-NaN arrays"
   ]
  },
  {
   "cell_type": "raw",
   "id": "de5026dd-7ba4-4ece-bee8-07e3fdfac024",
   "metadata": {},
   "source": [
    "# calculate TP: true positives\n",
    "#           TN: true negatives\n",
    "#           FP: false positives\n",
    "#           FN: false negatives\n",
    "#\n",
    "#           F: false alarm rate = FP/(total observed non-events * M)\n",
    "#           H: hit rate = TP/(total observed positive events * M)\n",
    "#           SEDI: (logF-logH-log(1-F)+log(1-H))/(logF+logH+log(1-F)+log(1-H))"
   ]
  },
  {
   "cell_type": "raw",
   "id": "1890edc4-a231-4e80-a4b1-3189eca77286",
   "metadata": {},
   "source": [
    "# ignore ice mask for now; apply in plots\n",
    "f_ice=basepath+f'/OISST/oisst-avhrr-v02r01.regridded1x1.monthly.{years[0]}_{years[-1]}.nc'\n",
    "with xr.open_dataset(f_ice) as fice:\n",
    "    icemask1=np.nanmax(fice.ice.data,axis=0)>0\n",
    "    Amax=np.zeros((20,)+np.shape(icemask1))\n",
    "    for ind in range(0,20):\n",
    "        Amax[ind,...]=np.nanmax(fice.ice.data[12*ind:12*(ind+1),...],axis=0)\n",
    "    AmaxH=np.mean(np.where(Amax>0,1,0),axis=0)\n",
    "    icemask=AmaxH>0.5"
   ]
  },
  {
   "cell_type": "code",
   "execution_count": null,
   "id": "5427644b-fded-42b2-826e-eea7b975fb9c",
   "metadata": {},
   "outputs": [],
   "source": [
    "years = [1991, 2020]\n",
    "basepath='/space/hall5/sitestore/eccc/crd/ccrn/users/reo000/work/MHW'\n",
    "# Model names\n",
    "nl = dict(zip( ['CanCM4i', 'COLA-RSMAS-CCSM4', 'GEM-NEMO', 'GFDL-SPEAR', 'NASA-GEOSS2S', 'NCEP-CFSv2', 'CanESM5', 'GEM5.2-NEMO', 'GEM5-NEMO', 'CanCM4i-IC3',],\n",
    "               [       11,                 11,         11,           11,              8,            9,        11,            11,          11,            11,])) # Max lead time for each model"
   ]
  },
  {
   "cell_type": "code",
   "execution_count": null,
   "id": "a62f397c-77e8-4d4c-93dd-4e7feacacda6",
   "metadata": {},
   "outputs": [],
   "source": [
    "is_detrend=True\n",
    "il=10\n",
    "mods = ['CanCM4i', 'COLA-RSMAS-CCSM4', 'GEM-NEMO', 'GFDL-SPEAR', 'NASA-GEOSS2S', 'NCEP-CFSv2']#"
   ]
  },
  {
   "cell_type": "code",
   "execution_count": null,
   "id": "ffaa5276-58af-4b9b-9066-124b61353b67",
   "metadata": {},
   "outputs": [],
   "source": [
    "def SEDIpath(mods,is_detrend,years,il):\n",
    "    basepath='/space/hall5/sitestore/eccc/crd/ccrn/users/reo000/work/MHW'\n",
    "    # Input/output directory\n",
    "    mhwdir = basepath+'/mhw/detrended' if is_detrend else basepath+'/mhw'\n",
    "    if is_detrend:\n",
    "        f_save = f'{mhwdir}/SEDI_MME_{\"_\".join(mods)}_l{il}_detrended_{years[0]}_{years[1]}.nc'\n",
    "    else:\n",
    "        f_save = f'{mhwdir}/SEDI_MME_{\"_\".join(mods)}_l{il}_{years[0]}_{years[1]}.nc'\n",
    "    return f_save"
   ]
  },
  {
   "cell_type": "code",
   "execution_count": null,
   "id": "118a191d-2098-4329-ae17-cd84e5ff1ff2",
   "metadata": {},
   "outputs": [],
   "source": [
    "def calcSEDI_il(mods,is_detrend,years,il,save=True):\n",
    "    basepath='/space/hall5/sitestore/eccc/crd/ccrn/users/reo000/work/MHW'\n",
    "    # Input/output directory\n",
    "    if is_detrend:\n",
    "        mhwdir = basepath+'/mhw/detrended';\n",
    "        f_obs = basepath+f'/OISST/mhw_detrended_oisst-avhrr-v02r01.regridded1x1.monthly.{years[0]}_{years[-1]}.nc'\n",
    "    else:\n",
    "        mhwdir = basepath+'/mhw';\n",
    "        f_obs = basepath+f'/OISST/mhw_oisst-avhrr-v02r01.regridded1x1.monthly.{years[0]}_{years[-1]}.nc'\n",
    "    fobs=xr.open_dataset(f_obs)\n",
    "        \n",
    "    # Loop through models\n",
    "    is_mhw_ens=[]\n",
    "    mlist=[]\n",
    "    flist=[]\n",
    "    for modi in mods:\n",
    "        if il<nl[modi]:\n",
    "            # Load MHWs\n",
    "            if is_detrend:\n",
    "                f_in = f'{mhwdir}/mhw_{modi}_l{il}_detrended_{years[0]}_{years[1]}.nc'\n",
    "            else:\n",
    "                f_in = f'{mhwdir}/mhw_{modi}_l{il}_{years[0]}_{years[1]}.nc'\n",
    "            flist.append(f_in)\n",
    "    ffor=xr.open_mfdataset(flist,chunks={'X':10,'Y':10,'M':-1},concat_dim='M',combine='nested',data_vars='minimal',\n",
    "                       coords='minimal',parallel=True,preprocess=lambda f: f.drop_vars([\"sst_an_thr\",\"mhw_prob\"]) )\n",
    "\n",
    "    M0=xr.where(np.isnan(ffor.is_mhw),0,1).sum(dim='M').mean(dim='S')\n",
    "    \n",
    "    Ms=np.unique(M0)\n",
    "    if len(Ms)>1: raise Exception('check M')\n",
    "    M=Ms[0]\n",
    "    mhwfor=ffor.is_mhw.data[:(-1*il),...]\n",
    "    mhwobs=fobs.is_mhw.data[il:,...]\n",
    "    N_pos=np.sum(mhwfor,axis=1).compute()\n",
    "    N_neg=np.sum((mhwfor==0).astype(float),axis=1).compute()\n",
    "    TP=np.where(mhwobs==1,N_pos,0)\n",
    "    TN=np.where(mhwobs==0,N_neg,0)\n",
    "    FP=np.where(mhwobs==0,N_pos,0)\n",
    "    FN=np.where(mhwobs==1,N_neg,0)\n",
    "    \n",
    "    # calculate SEDI, summed over time\n",
    "    Nobs_pos=np.sum(mhwobs,axis=0)\n",
    "    Nobs_neg=np.sum(1-mhwobs,axis=0)\n",
    "    F=np.sum(FP,axis=0)/(Nobs_neg*M)\n",
    "    H=np.sum(TP,axis=0)/(Nobs_pos*M)\n",
    "    \n",
    "    SEDI=(np.log(F)-np.log(H)-np.log(1-F)+np.log(1-H))/(np.log(F)+np.log(H)+np.log(1-F)+np.log(1-H))\n",
    "    lmask=np.logical_or(np.sum(fobs.is_mhw.data,axis=0)==0,M0.data==0)\n",
    "\n",
    "    f_save=SEDIpath(mods,is_detrend,years,il)\n",
    "    if save:\n",
    "        xout=xr.Dataset(data_vars={'lon':(['X',],ffor.lon.values),\n",
    "                    'lat':(['Y',],ffor.lat.values),\n",
    "                    'SEDI':(['Y','X'],np.ma.masked_where(lmask,SEDI))},\n",
    "                    coords=dict(X=ffor.X,Y=ffor.Y),)\n",
    "        xout.to_netcdf(f_save,mode='w')\n",
    "    ffor.close()\n",
    "    return"
   ]
  },
  {
   "cell_type": "code",
   "execution_count": null,
   "id": "8fdbda5f-8de1-4a8d-b243-3bae26056321",
   "metadata": {},
   "outputs": [],
   "source": [
    "for is_detrend in (True,False):\n",
    "    print('is_detrend:',is_detrend)\n",
    "    for il in (1,3,6,10):\n",
    "        print(' il:',il)\n",
    "        fSEDI=SEDIpath(mods,is_detrend,years,il)\n",
    "        print(fSEDI)\n",
    "        if not os.path.exists(fSEDI):\n",
    "            calcSEDI_il(mods,is_detrend,years,il)\n",
    "print('done')"
   ]
  },
  {
   "cell_type": "code",
   "execution_count": null,
   "id": "5451859c-0073-4a6e-a386-cf24627e72fe",
   "metadata": {},
   "outputs": [],
   "source": []
  },
  {
   "cell_type": "code",
   "execution_count": null,
   "id": "f7f6c5bd-cfee-47c3-a9a4-ad027a280a2b",
   "metadata": {},
   "outputs": [],
   "source": []
  }
 ],
 "metadata": {
  "kernelspec": {
   "display_name": "Python (py39dc2)",
   "language": "python",
   "name": "py39dc2"
  },
  "language_info": {
   "codemirror_mode": {
    "name": "ipython",
    "version": 3
   },
   "file_extension": ".py",
   "mimetype": "text/x-python",
   "name": "python",
   "nbconvert_exporter": "python",
   "pygments_lexer": "ipython3",
   "version": "3.9.19"
  }
 },
 "nbformat": 4,
 "nbformat_minor": 5
}
