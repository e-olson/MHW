{
 "cells": [
  {
   "cell_type": "code",
   "execution_count": 1,
   "id": "e64d3b99-7477-45da-84dc-963d44cbe4cc",
   "metadata": {},
   "outputs": [
    {
     "data": {
      "text/plain": [
       "'/fs/homeu2/eccc/crd/ccrn_shr/reo000/MHW'"
      ]
     },
     "execution_count": 1,
     "metadata": {},
     "output_type": "execute_result"
    }
   ],
   "source": [
    "pwd"
   ]
  },
  {
   "cell_type": "code",
   "execution_count": 2,
   "id": "e185f005-c571-4293-bcfe-22ae05bce25b",
   "metadata": {},
   "outputs": [
    {
     "name": "stdout",
     "output_type": "stream",
     "text": [
      "/fs/homeu2/eccc/crd/ccrn_shr/reo000/MHW/MHW_Forecasts_New\n"
     ]
    }
   ],
   "source": [
    "cd MHW_Forecasts_New/"
   ]
  },
  {
   "cell_type": "code",
   "execution_count": null,
   "id": "70b4e37a-8617-42af-9828-6331f55ebe5f",
   "metadata": {},
   "outputs": [],
   "source": []
  }
 ],
 "metadata": {
  "kernelspec": {
   "display_name": "Python (py12MHW)",
   "language": "python",
   "name": "py12mhw"
  },
  "language_info": {
   "codemirror_mode": {
    "name": "ipython",
    "version": 3
   },
   "file_extension": ".py",
   "mimetype": "text/x-python",
   "name": "python",
   "nbconvert_exporter": "python",
   "pygments_lexer": "ipython3",
   "version": "3.12.5"
  }
 },
 "nbformat": 4,
 "nbformat_minor": 5
}
